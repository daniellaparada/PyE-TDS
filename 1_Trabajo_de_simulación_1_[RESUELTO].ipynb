{
  "cells": [
    {
      "cell_type": "markdown",
      "metadata": {
        "id": "view-in-github",
        "colab_type": "text"
      },
      "source": [
        "<a href=\"https://colab.research.google.com/github/daniellaparada/PyE-TDS/blob/main/1_Trabajo_de_simulaci%C3%B3n_1_%5BRESUELTO%5D.ipynb\" target=\"_parent\"><img src=\"https://colab.research.google.com/assets/colab-badge.svg\" alt=\"Open In Colab\"/></a>"
      ]
    },
    {
      "cell_type": "markdown",
      "metadata": {
        "id": "Uoe78x1ck9Q3"
      },
      "source": [
        "# Trabajo de simulación 1\n",
        "\n",
        "Para el primer trabajo de simulación, vamos a estudiar un problema clásico. Para entrar en tema, te invitamos a ver este video de [#DATAZO](https://youtu.be/QOLEHijfT2E).\n",
        "\n",
        "El problema es así: en un grupo de $k$ personas elegidas al azar, ¿cuál es la probabilidad de que haya al menos dos que cumplan años el mismo día?\n",
        "\n",
        "Para comenzar, hagamos algunos supuestos:\n",
        "\n",
        "*   consideremos que un año tiene 365 días (¡sí, pobres lxs que cumplen el 29 de febrero!);\n",
        "*   consideremos que es igualmente probable haber nacido cualquier día del año;\n",
        "*   descartemos la posibilidad de que haya gemelxs en el grupo de personas.\n",
        "\n",
        "Estos supuestos son necesarios para poder modelar el experimento de una forma sencilla."
      ]
    },
    {
      "cell_type": "markdown",
      "source": [
        "## Resolución \"a mano\"\n",
        "\n",
        "Queremos responder la siguiente pregunta: en un grupo de $k$ personas elegidas al azar, ¿cuál es la probabilidad de que haya al menos dos que cumplan años el mismo día?\n",
        "\n",
        "Pensemos en el espacio muestral como el formado por todas las posibles fechas de cumpleaños de las $k$ personas del experimento.\n",
        "\n",
        "$$\\Omega = \\{(x_1,\\ldots,x_k) \\text{ con } x_i\\in\\{1,\\ldots,365\\} \\text{ para } 1\\leq i \\leq k\\}.$$\n",
        "\n",
        "Este espacio, así definido, es finito y equiprobable (¡aunque posiblemente tenga muchos elementos!). ¿Cuál es su cardinal? Como vemos, cada una de las $k$ personas tiene 365 posibilidades de fechas de cumpleaños, luego\n",
        "\n",
        "$$\\#\\Omega=365^k.$$\n",
        "\n",
        "Vamos a querer calcular la probabilidad de que en un grupo de $k$ personas elegidas al azar, haya **al menos dos** que cumplan años el mismo día. Lo que ocurre es que hay muchas posibles parejas de personas que cumplan años un mismo día; y contar los elementos del conjunto formado por estas puede ser muy pesado. Entonces, lo que puede convenir es calcular primero la probabilidad de que ninguna persona de un conjunto de $k$ personas elegidas al azar cumpla años el mismo día que otra.\n",
        "\n",
        "Armemos el conjunto $E:$ \"ninguna de las $k$ personas del grupo cumple años el mismo día\". Necesitamos saber cuál es su cardinal. Hay $k$ personas:\n",
        "\n",
        "- la primera cumple años en una de las 365 fechas posibles, fijémosla,\n",
        "- luego, la segunda ya no tiene 365 fechas posibles, sino 364, pues una de las fechas ya fue fijada por la primera persona,\n",
        "- luego, la tercera ya no tiene 365 ni 364 fechas posibles, sino 363, pues dos fechas fueron fijadas por las primeras dos personas,\n",
        "y así, sucesivamente, hasta llegar a la persona $k$. Es decir, el cardinal de $E$ es el siguiente\n",
        "\n",
        "$$\\#E=365\\times 364\\times 363\\times \\cdots \\times 365-k+1.$$\n",
        "\n",
        "De esta forma, la probabilidad buscada es\n",
        "$$p=\\frac{365\\times 364\\times 363\\times \\cdots \\times (365-k+1)}{365^k}.$$\n",
        "\n",
        "Ahora, $1 - p$ es la probabilidad que buscamos, pues el evento \"al menos dos personas de las $k$ elegidas cumple años el mismo día\" es el complemento del evento \"ninguna persona de las $k$ elegidas cumple años el mismo día\".\n",
        "\n",
        "Es decir, la probabilidad de que en un grupo de $k$ personas elegidas al azar, haya **al menos dos** que cumplan años el mismo día es igual a\n",
        "\n",
        "$$1-\\frac{365\\times 364\\times 363\\times \\cdots \\times (365-k+1)}{365^k}.$$\n",
        "\n",
        "Para calcular esta probabilidad, basta definir de qué tamaño será el grupo ($k$) y hacer la cuenta. Por ejemplo, para $k=23$ se tiene que\n",
        "\n",
        "$$1-\\frac{365\\times 364\\times 363\\times \\cdots \\times 343}{365^{23}}.$$\n",
        "\n",
        "Podemos armar una función en Python que haga esta cuenta."
      ],
      "metadata": {
        "id": "Q6iB7ZzWPr5T"
      }
    },
    {
      "cell_type": "code",
      "source": [
        "import math\n",
        "def proba_cumples(k):\n",
        "    '''\n",
        "    proba_cumples(k) devuelve la probabilidad de que en un grupo de k\n",
        "    personas elegidas al azar haya al menos dos que cumplañ años el mismo día\n",
        "    '''\n",
        "    prob = 1-math.prod(range(365-k+1,366))/(365**k)\n",
        "    return prob"
      ],
      "metadata": {
        "id": "KoQ-IZ34a-q5"
      },
      "execution_count": null,
      "outputs": []
    },
    {
      "cell_type": "code",
      "source": [
        "proba_cumples(23)"
      ],
      "metadata": {
        "id": "pAsIAR8OfGHF"
      },
      "execution_count": null,
      "outputs": []
    },
    {
      "cell_type": "markdown",
      "source": [
        "## Simulación (ejercicio a entregar)\n",
        "\n",
        "Armar una simulación basada en $N=1000$ repeticiones que permita estimar la probabilidad de que al menos dos personas en un grupo de $k$ personas elegidas al azar cumpla años el mismo día. Dar una lista de las probabilidades estimadas en función de $k$ para $k$ entre 1 y 50. **[OPCIONAL]** Si es posible, representar esas probabilidades estimadas en un gráfico.\n",
        "\n",
        "Para la construcción de la simulación, se sugiere seguir la estructura propuesta en el apartado de simulaciones numéricas de este Notebook. Es decir, para un valor de $k$ que hayamos fijado, puede hacerse lo siguiente.\n",
        "\n",
        "1.  Para el armado del bullet \"1. Experimento aleatorio\", definir la función ``cumples(k)``, que devuelva ``k`` fechas de cumpleaños (``k`` números entre 1 y 365).\n",
        "2.  Para el armado del bullet \"2: Muestra aleatoria\", definir una semilla, fijar ``N`` y armar ``N=1000`` muestras de ``cumples(k)`` que se guarden en ``muestras``.\n",
        "3.  Para el armado del bullet \"3: Una función _filtro_ que caracteriza el evento E\", definir la función ``hay_coincidencia(cumples)`` que devuelva ``TRUE`` (o un 1) si hay una coincidencia en una lista ``cumples`` que sea pasada como argumento. Esta es la función que quizás sea más difícil de implementar. Hay muchas formas de hacerlo. Como pista, la función ``set()`` que ya usamos es una estructura de datos ideal para contener objetos sin repeticiones.\n",
        "4.  Para el armado del bullet \"4: Aproximamos P(E) por la proporción de elementos de E en la muestra\" contar la proporción de ``hay_coincidencia()`` en las ``N`` repeticiones de la muestra y devolver ese valor.\n",
        "\n",
        "**[SUGERENCIA]** Como quiere estimarse la probabilidad en las simulaciones para grupos de $k$ personas, donde $k$ varía desde 0 hasta 50 personas, puede crearse una función ``proporcion_coincidencia(k,N)`` que devuelva directamente una aproximación a la probabilidad de coincidencia en función del número de personas ``k``; sin tener que simular las ``N`` repeticiones en cada caso por separado. En esta función ``proporcion_coincidencia(k,N)`` pueden usarse, dentro, las funciones ``cumples()`` y ``hay_coincidencia()``."
      ],
      "metadata": {
        "id": "qZ_EPsV_P491"
      }
    },
    {
      "cell_type": "markdown",
      "source": [
        "## Simulación (resuelto)"
      ],
      "metadata": {
        "id": "pgSBwIw8P8Zf"
      }
    },
    {
      "cell_type": "markdown",
      "source": [
        "Definamos la función ``cumples(k)`` que nos devuelve $k$ fechas de cumpleaños de un año cualquiera. Para facilitar el modelado, en lugar de usar fechas calendario vamos a usar números del 1 al 365, que representarán, cada uno, los posibles días en que una persona puede nacer, desde el 1ro de enero hasta el 31 de diciembre."
      ],
      "metadata": {
        "id": "943uoIT8QEOE"
      }
    },
    {
      "cell_type": "code",
      "execution_count": null,
      "metadata": {
        "id": "iEZJHZrrk9Q3"
      },
      "outputs": [],
      "source": [
        "import random as rd\n",
        "#### 1: Experimento aleatorio\n",
        "def cumples(k):\n",
        "    '''\n",
        "    cumples(k) devuelve k fechas de cumpleaños (k números entre 1 y 365)\n",
        "    '''\n",
        "    return [rd.randint(1,365) for _ in range(k)]\n",
        "\n",
        "cumples(10)"
      ]
    },
    {
      "cell_type": "markdown",
      "metadata": {
        "id": "DaCblZ6ek9Q4"
      },
      "source": [
        "Ahora tenemos que repetir el experimento $N$ veces, para obtener $N$ conjuntos de $k$ cumpleaños cada uno, y contar cuántas veces ese conjunto tiene repeticiones.\n",
        "\n",
        "Para comprobar si hay coincidencias, podemos pensar muchas estrategias. Acá proponemos una.\n",
        "\n",
        "Podemos usar una estructura de datos como la que vimos al inicio, ``set()``, pues es una estructura de datos ideal para contener objetos sin repeticiones.\n",
        "Si construimos un conjunto con los elementos de una lista, desaparecen los elementos repetidos. Es decir: **el conjunto tendrá menos elementos que la lista si y sólo si la lista tiene al menos un elemento repetido**.\n",
        "\n",
        "También podés usar una función creada por vos."
      ]
    },
    {
      "cell_type": "code",
      "execution_count": null,
      "metadata": {
        "id": "4jdfQ4spk9Q4"
      },
      "outputs": [],
      "source": [
        "# Ejemplos de conjuntos vs listas\n",
        "print(set([1,2,3,1,7,8,9]))\n",
        "print(set([1,1,1,1,2,2]))\n",
        "\n",
        "print(list([1,2,3,1,7,8,9]))\n",
        "print(list([1,1,1,1,2,2]))"
      ]
    },
    {
      "cell_type": "code",
      "execution_count": null,
      "metadata": {
        "id": "0WJlcoAxk9Q4"
      },
      "outputs": [],
      "source": [
        "#### 3: Una función _\"filtro\"_\n",
        "def hay_coincidencia(cumple):\n",
        "    '''Hay una coincidencia en la lista \"cumple\" si y solo si\n",
        "    la longitud de la lista \"cumple\" después de eliminar repeticiones (set)\n",
        "    es menor que la longitud de la lista antes de eliminar repeticiones\n",
        "    '''\n",
        "    return len(set(cumple)) < len(cumple)"
      ]
    },
    {
      "cell_type": "code",
      "execution_count": null,
      "metadata": {
        "id": "rTl_Ih4hk9Q4"
      },
      "outputs": [],
      "source": [
        "# Hay k personas en el grupo\n",
        "k = 25\n",
        "\n",
        "#### 2: Muestra aleatoria\n",
        "rd.seed(123)\n",
        "N = 1000\n",
        "muestra = [cumples(k) for _ in range(N)]\n",
        "\n",
        "#### 4: Aproximamos P(E) por la proporción de elementos de E en la muestra\n",
        "prob = sum(hay_coincidencia(e) for e in muestra)/N\n",
        "print('Probabilidad aproximada de que dos personas cumplan años el mismo día:', prob)"
      ]
    },
    {
      "cell_type": "markdown",
      "metadata": {
        "id": "iSQ_ahB5k9Q4"
      },
      "source": [
        "Hagamos un gráfico de la proporción obtenida en las simulaciones para grupos de $k$ personas, donde $k$ varía desde 0 hasta 50 personas. Para ello es interesante crear una función ``proporcion_coincidencia`` que devuelve directamente una aproximación a la probabilidad de coincidencia en función del número de personas; sin tener que hacer cada caso por separado."
      ]
    },
    {
      "cell_type": "code",
      "execution_count": null,
      "metadata": {
        "id": "pK0ixgkKk9Q4"
      },
      "outputs": [],
      "source": [
        "def proporcion_coincidencia(k, N=1000):\n",
        "    muestra = [cumples(k) for _ in range(N)]\n",
        "    proporcion = sum(hay_coincidencia(e) for e in muestra)/N\n",
        "    return proporcion"
      ]
    },
    {
      "cell_type": "code",
      "execution_count": null,
      "metadata": {
        "id": "lMSgs9Irk9Q5"
      },
      "outputs": [],
      "source": [
        "# Importamos una librería para poder hacer gráficos.\n",
        "import matplotlib.pyplot as plt\n",
        "\n",
        "rd.seed(123)\n",
        "kmax = 50\n",
        "plt.figure(figsize=(16, 12))\n",
        "plt.bar(range(1,kmax+1),[proporcion_coincidencia(k) for k in range(1,kmax+1)], color='orange')\n",
        "plt.show()"
      ]
    }
  ],
  "metadata": {
    "kernelspec": {
      "display_name": "Python 3 (ipykernel)",
      "language": "python",
      "name": "python3"
    },
    "language_info": {
      "codemirror_mode": {
        "name": "ipython",
        "version": 3
      },
      "file_extension": ".py",
      "mimetype": "text/x-python",
      "name": "python",
      "nbconvert_exporter": "python",
      "pygments_lexer": "ipython3",
      "version": "3.8.10"
    },
    "colab": {
      "provenance": [],
      "toc_visible": true,
      "include_colab_link": true
    }
  },
  "nbformat": 4,
  "nbformat_minor": 0
}