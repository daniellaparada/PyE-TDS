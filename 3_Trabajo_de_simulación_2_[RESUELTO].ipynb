{
  "cells": [
    {
      "cell_type": "markdown",
      "metadata": {
        "id": "view-in-github",
        "colab_type": "text"
      },
      "source": [
        "<a href=\"https://colab.research.google.com/github/daniellaparada/PyE-TDS/blob/main/3_Trabajo_de_simulaci%C3%B3n_2_%5BRESUELTO%5D.ipynb\" target=\"_parent\"><img src=\"https://colab.research.google.com/assets/colab-badge.svg\" alt=\"Open In Colab\"/></a>"
      ]
    },
    {
      "cell_type": "markdown",
      "metadata": {
        "id": "Uoe78x1ck9Q3"
      },
      "source": [
        "# Trabajo de simulación 2\n",
        "\n"
      ]
    },
    {
      "cell_type": "markdown",
      "source": [
        "## Simulación (ejercicio a entregar)\n",
        "\n",
        "Armar una simulación basada en $N=100$ repeticiones que permita estimar el promedio de paquetes necesarios para conseguir llenar el álbum de figuritas del Mundial Qatar 2022. **[OPCIONAL]** Si es posible, representar el histograma de la cantidad de paquetes necesarios para completar el álbum a partir de la simulación. Puede usarse ``import seaborn as sns`` y ``sns.histplot()``.\n",
        "\n",
        "A diferencia de la resolución a mano, aquí propondremos una versión más realista: el álbum del Mundial Qatar 2022 tiene ``figus_total=860`` y vamos a suponer que el paquete no trae una figurita, sino varias: ``figus_paquete=5``. Además, Panini, empresa creadora del álbum del Mundial Qatar 2022, asegura que NO vienen figuritas repetidas por paquete. Para resolver este problema, podés optar por simularlo de acuerdo con esto que asegura Panini, o no. Es tu elección.\n",
        "\n",
        "\n",
        "**[PISTAS]** Para la construcción de la simulación, se sugiere la siguiente estructura, ya que no hemos estimado otra cosa que no sean probabilidades y, para este problema, necesitamos estimar una esperanza.\n",
        "\n",
        "1.  Para el armado del bullet \"1. Experimento aleatorio\", definir la función ``cuantos_paquetes(figus_total, figus_paquete)`` que dado el tamaño del álbum (``figus_total``) y la cantidad de figuritas por paquete (``figus_paquete``) genere un álbum nuevo, simule su llenado y devuelva cuántos paquetes se debieron comprar para completarlo.\n",
        "2.  Para el armado del bullet \"2: Muestra aleatoria\", definir una semilla, fijar ``N`` y armar ``N=100`` muestras de ``cuantos_paquetes(figus_total, figus_paquete)`` que se guarden en ``muestras``.\n",
        "3.  En esta instancia, como vimos, estaríamos armando el bullet \"3: Una función _filtro_ que caracteriza el evento E\" para luego estimar $P(E)$ por la frecuencia relativa de su aparición en las $N$ muestras. Sin embargo, aquí no hay evento para estimar: lo que queremos estimar es una esperanza. Para hacerlo, la aproximaremos por su promedio muestral, es decir, por el promedio de lo observado en ``muestras``. Para ello, podés usar el comando ``np.mean(muestras)``. Esto nos dará una estimación del promedio de paquetes necesarios para completar un álbum del Mundial Qatar 2022 a partir de una simulación de $N$ replicaciones.\n",
        "\n",
        "**[SUGERENCIA PARA EL BULLET 1]** Armar la función ``cuantos_paquetes(figus_total, figus_paquete)`` puede ser desafiante. Te compartimos una posible estructura que puede ayudarte a implementarla.\n",
        "\n",
        "- Implementá una función ``crear_album(figus_total)`` para crear un vector ``album`` que tenga un total de ``figus_total`` ceros. Es decir, vamos a representar al álbum por un vector en el que cada posición representa el estado de una figurita con dos valores: 0, para indicar que aún no la conseguimos, y 1, para indicar que sí. El álbum se inicia con todas sus posiciones en 0, hasta que empezamos a comprar figuritas y pegarlas.\n",
        "\n",
        "- Implementá una función ``comprar_paquete(figus_total,figus_paquete)`` que, dada la cantidad de figuritas por paquete (figus_paquete), genere un ``paquete`` (lista) de figuritas al azar. Si respetamos lo que afirma Panini de que no hay figuritas repetidas por paquete, usá el comando ``rd.sample``, ya que estaremos tomando una muestra de figuritas sin reposición.\n",
        "\n",
        "- Implementá la función ``pegar_figus(album,paquete)`` que complete con un 1 las figuritas del álbum que te hayan tocado. Recordá que los vectores se indexan desde 0, entonces, te va a convenir que la posición ``[i]`` del ``album`` toma el valor 1 si alguno de los elementos de la lista ``figus`` contiene al valor ``i``. Pero, para eso, generá las figuritan en ``range(0,figus_total)``, es decir, figuritas que toman valores de 0 hasta ``figus_total-1``. Lo importante es que aquellas figuritas que no te hayan tocado conserven el 0 en la posición correspondiente del vector ``album``. En este problema, no abordamos la complejidad que significaría intercambian y considerar todas las repetidas que podés tener.\n",
        "\n",
        "- Implementá la función ``album_incompleto(album)`` que recibe un vector ``album`` y devuelve ``True`` si el álbum ``A`` no está completo y ``False`` si lo está. Recordá que un álbum estará incompleto siempre que haya al menos un cero en alguna de sus posiciones.\n",
        "\n",
        "- Por último, utilizá todas estas funciones para crear una única función que las invoque y que se llame ``cuantos_paquetes(figus_total, figus_paquete)`` que cuente la cantidad de paquetes necesarios hasta completar el álbum. Necesitarás usar la estructura de control ``while()``, pues comprarás paquetes mientras el álbum siga incompleto; y deberás generar un contador de ``paquetes_comprados`` que arranque en 0 y sume un 1 cada vez que compres un nuevo paquete."
      ],
      "metadata": {
        "id": "qZ_EPsV_P491"
      }
    },
    {
      "cell_type": "markdown",
      "source": [
        "## Simulación (resuelto)"
      ],
      "metadata": {
        "id": "pgSBwIw8P8Zf"
      }
    },
    {
      "cell_type": "markdown",
      "source": [
        "Comencemos a trabajar con un álbum pequeño, así podemos probar las múltiples funciones que necesitaremos crear."
      ],
      "metadata": {
        "id": "cQJ_NFP6FL83"
      }
    },
    {
      "cell_type": "code",
      "source": [
        "import numpy as np\n",
        "import random as rd\n",
        "\n",
        "# Comencemos con un album pequeño\n",
        "figus_total = 10\n",
        "figus_paquete = 5\n",
        "N = 100"
      ],
      "metadata": {
        "id": "qZAr0YvU5ted"
      },
      "execution_count": null,
      "outputs": []
    },
    {
      "cell_type": "markdown",
      "source": [
        "Creamos el álbum usando la instrucción ``np.zeros(figus_total)`` para crear el vector de ceros que represente el álbum vacío."
      ],
      "metadata": {
        "id": "3nSD-G57FUgN"
      }
    },
    {
      "cell_type": "code",
      "source": [
        "# Crear album\n",
        "def crear_album(figus_total):\n",
        "  album = np.zeros(figus_total)\n",
        "  return(album)\n",
        "\n",
        "crear_album(figus_total)"
      ],
      "metadata": {
        "colab": {
          "base_uri": "https://localhost:8080/"
        },
        "id": "E38lBe9a5-co",
        "outputId": "6657d442-bfdb-436d-b607-4d4550511aec"
      },
      "execution_count": null,
      "outputs": [
        {
          "output_type": "execute_result",
          "data": {
            "text/plain": [
              "array([0., 0., 0., 0., 0., 0., 0., 0., 0., 0.])"
            ]
          },
          "metadata": {},
          "execution_count": 2
        }
      ]
    },
    {
      "cell_type": "markdown",
      "source": [
        "Creamos la función para comprar paquetes. Usamos ``rd.sample(range(0, figus_total), figus_paquete)`` para:\n",
        "\n",
        "- representar lo que afirma Panini de que no vienen figuritas repetidas en un paquete,\n",
        "- crear figuritas numeradas del 0 al ``figus_total`` para, luego, usar este índice para pegar las figuritas en el álbum."
      ],
      "metadata": {
        "id": "FHrZbcqAFn6j"
      }
    },
    {
      "cell_type": "code",
      "source": [
        "# Comprar paquete\n",
        "def comprar_paquete(figus_total,figus_paquete):\n",
        "  paquete = rd.sample(range(0, figus_total), figus_paquete)\n",
        "  return(paquete)\n",
        "\n",
        "comprar_paquete(figus_total,figus_paquete)"
      ],
      "metadata": {
        "colab": {
          "base_uri": "https://localhost:8080/"
        },
        "id": "ZGTsp6wJ60FM",
        "outputId": "6a094f84-98e7-4b9f-d56b-db0723c3fc54"
      },
      "execution_count": null,
      "outputs": [
        {
          "output_type": "execute_result",
          "data": {
            "text/plain": [
              "[8, 4, 5, 7, 2]"
            ]
          },
          "metadata": {},
          "execution_count": 3
        }
      ]
    },
    {
      "cell_type": "code",
      "source": [
        "# Probamos crear el album y comprar un paquete\n",
        "# Pegamos las figuritas\n",
        "album = crear_album(figus_total)\n",
        "paquete = comprar_paquete(figus_total,figus_paquete)\n",
        "album[paquete]=1\n",
        "album"
      ],
      "metadata": {
        "colab": {
          "base_uri": "https://localhost:8080/"
        },
        "id": "2POQSuOs8cg-",
        "outputId": "1f43aafe-fb31-48b8-8fe0-b1e69b4047db"
      },
      "execution_count": null,
      "outputs": [
        {
          "output_type": "execute_result",
          "data": {
            "text/plain": [
              "array([1., 1., 0., 0., 1., 1., 1., 0., 0., 0.])"
            ]
          },
          "metadata": {},
          "execution_count": 4
        }
      ]
    },
    {
      "cell_type": "markdown",
      "source": [
        "Armamos la función para pegar las figuritas de un paquete en el álbum. Basta con asignar un 1 a todas las posiciones del álbum que coincidan con los números de figuritas del paquete. Esta es la ventaja de haber generado figuritas numeradas del del 0 al ``figus_total``."
      ],
      "metadata": {
        "id": "5RcZV8aOIebN"
      }
    },
    {
      "cell_type": "code",
      "source": [
        "# Pegar figuritas en el paquete\n",
        "def pegar_figus(album,paquete):\n",
        "  album[paquete]=1\n",
        "  return(album)"
      ],
      "metadata": {
        "id": "84CT4zso8YF9"
      },
      "execution_count": null,
      "outputs": []
    },
    {
      "cell_type": "markdown",
      "source": [
        "Estamos casi por terminar, basta crear una función que verifique si el álbum está completo. Una posible forma de hacerlo es sumar todos los ``True`` de la condición ``album>0``: esa cuenta nos daría la cantidad de números distintos de 0 que hay en el álbum, es decir, la cantidad de figuritas pegadas. Si esa suma es mayor o igual al total de figuritas (``len(album)``, por ejemplo), entonces quiere decir que ¡completamos el álbum!"
      ],
      "metadata": {
        "id": "j5rTpPwGIzbn"
      }
    },
    {
      "cell_type": "code",
      "source": [
        "# Chequear si el álbum está completo\n",
        "def album_incompleto(album):\n",
        "  if (album>0).sum()>=len(album):\n",
        "    return False\n",
        "  else:\n",
        "    return True"
      ],
      "metadata": {
        "id": "Gkjvh0VB81YI"
      },
      "execution_count": null,
      "outputs": []
    },
    {
      "cell_type": "code",
      "source": [
        "# La probamos\n",
        "album_incompleto(album)"
      ],
      "metadata": {
        "colab": {
          "base_uri": "https://localhost:8080/"
        },
        "id": "Y5sFNe7b__yL",
        "outputId": "5a24eca2-4df2-4131-bd41-6de7a48dba77"
      },
      "execution_count": null,
      "outputs": [
        {
          "output_type": "execute_result",
          "data": {
            "text/plain": [
              "True"
            ]
          },
          "metadata": {},
          "execution_count": 7
        }
      ]
    },
    {
      "cell_type": "markdown",
      "source": [
        "Ahora sí, ¡a simular apertura de paquetes! Vamos a crear la función ``cuantos_paquetes(figus_total, figus_paquete)`` para:\n",
        "- crear un álbum,\n",
        "- guardar un contador de paquetes comprados,\n",
        "- usar una estructura de control ``while()`` para que, mientras el álbum esté incompleto:\n",
        "  - compremos un paquete,\n",
        "  - aumentemos el contador de paquetes comprados, y\n",
        "  - peguemos las figus del paquete en el álbum.\n",
        "\n",
        "Cuando el álbum esté completo, queremos recuperar el contador de paquetes."
      ],
      "metadata": {
        "id": "XUni8yBoJYpZ"
      }
    },
    {
      "cell_type": "code",
      "source": [
        "def cuantos_paquetes(figus_total, figus_paquete):\n",
        "  album = crear_album(figus_total)\n",
        "  comprados = 0\n",
        "  while(album_incompleto(album)):\n",
        "    paquete = comprar_paquete(figus_total,figus_paquete)\n",
        "    comprados = comprados + 1\n",
        "    album = pegar_figus(album,paquete)\n",
        "  return(comprados)\n",
        "\n",
        "# La probamos\n",
        "cuantos_paquetes(figus_total, figus_paquete)"
      ],
      "metadata": {
        "colab": {
          "base_uri": "https://localhost:8080/"
        },
        "id": "vr1dcLE_-8yS",
        "outputId": "091936fd-f7de-4858-da98-6203d7c92314"
      },
      "execution_count": null,
      "outputs": [
        {
          "output_type": "execute_result",
          "data": {
            "text/plain": [
              "4"
            ]
          },
          "metadata": {},
          "execution_count": 8
        }
      ]
    },
    {
      "cell_type": "markdown",
      "source": [
        "¡Ya tenemos todo listo para simular! Pero, para evitar líos, sigamos trabajando con un álbum pequeño. Generemos las muestras de cantidad de paquetes comprados, ¡como si hubiéramos llenado muchos álbumes en la vida real!"
      ],
      "metadata": {
        "id": "Q3eQhX7fKETD"
      }
    },
    {
      "cell_type": "code",
      "source": [
        "# Probamos con 100 repeticiones\n",
        "rd.seed(123)\n",
        "N = 1000\n",
        "muestra = [cuantos_paquetes(figus_total, figus_paquete) for _ in range(N)]\n",
        "muestra"
      ],
      "metadata": {
        "colab": {
          "base_uri": "https://localhost:8080/"
        },
        "id": "6hVrvfdzBej5",
        "outputId": "dca6b554-5884-4e86-d5f3-cbda521284f4"
      },
      "execution_count": null,
      "outputs": [
        {
          "output_type": "execute_result",
          "data": {
            "text/plain": [
              "[5,\n",
              " 4,\n",
              " 5,\n",
              " 4,\n",
              " 5,\n",
              " 8,\n",
              " 5,\n",
              " 6,\n",
              " 4,\n",
              " 3,\n",
              " 3,\n",
              " 3,\n",
              " 4,\n",
              " 4,\n",
              " 4,\n",
              " 5,\n",
              " 6,\n",
              " 4,\n",
              " 4,\n",
              " 5,\n",
              " 8,\n",
              " 4,\n",
              " 4,\n",
              " 3,\n",
              " 7,\n",
              " 4,\n",
              " 4,\n",
              " 4,\n",
              " 4,\n",
              " 5,\n",
              " 3,\n",
              " 4,\n",
              " 6,\n",
              " 4,\n",
              " 4,\n",
              " 5,\n",
              " 3,\n",
              " 4,\n",
              " 4,\n",
              " 5,\n",
              " 5,\n",
              " 3,\n",
              " 8,\n",
              " 5,\n",
              " 3,\n",
              " 6,\n",
              " 5,\n",
              " 3,\n",
              " 4,\n",
              " 5,\n",
              " 5,\n",
              " 3,\n",
              " 5,\n",
              " 4,\n",
              " 3,\n",
              " 6,\n",
              " 5,\n",
              " 4,\n",
              " 4,\n",
              " 6,\n",
              " 5,\n",
              " 5,\n",
              " 5,\n",
              " 4,\n",
              " 6,\n",
              " 4,\n",
              " 4,\n",
              " 7,\n",
              " 6,\n",
              " 4,\n",
              " 5,\n",
              " 3,\n",
              " 5,\n",
              " 9,\n",
              " 3,\n",
              " 7,\n",
              " 3,\n",
              " 5,\n",
              " 4,\n",
              " 5,\n",
              " 5,\n",
              " 5,\n",
              " 7,\n",
              " 5,\n",
              " 6,\n",
              " 4,\n",
              " 5,\n",
              " 4,\n",
              " 4,\n",
              " 4,\n",
              " 5,\n",
              " 7,\n",
              " 8,\n",
              " 6,\n",
              " 4,\n",
              " 16,\n",
              " 4,\n",
              " 4,\n",
              " 4,\n",
              " 4]"
            ]
          },
          "metadata": {},
          "execution_count": 9
        }
      ]
    },
    {
      "cell_type": "markdown",
      "source": [
        "Estimamos lo que buscamos calculando la cantidad promedio de paquetes que fueron necesarios en nuestra muestra."
      ],
      "metadata": {
        "id": "KSWfIyPoKSeL"
      }
    },
    {
      "cell_type": "code",
      "source": [
        "# Estimamos el promedio de paquetes\n",
        "np.mean(muestra)"
      ],
      "metadata": {
        "colab": {
          "base_uri": "https://localhost:8080/"
        },
        "id": "ngHETIHlCPiG",
        "outputId": "ecb00be9-4d2a-4e3e-e197-6c86a704333c"
      },
      "execution_count": null,
      "outputs": [
        {
          "output_type": "execute_result",
          "data": {
            "text/plain": [
              "4.82"
            ]
          },
          "metadata": {},
          "execution_count": 10
        }
      ]
    },
    {
      "cell_type": "markdown",
      "source": [
        "¡Ahora sí, lo hacemos con los datos que nos interesan!"
      ],
      "metadata": {
        "id": "rP9zQEkVKaIw"
      }
    },
    {
      "cell_type": "code",
      "source": [
        "# Ahora, lo hacemos con los datos del mundial\n",
        "rd.seed(123)\n",
        "figus_total = 860\n",
        "figus_paquete = 5\n",
        "N = 100\n",
        "muestra = [cuantos_paquetes(figus_total, figus_paquete) for _ in range(N)]\n",
        "np.mean(muestra)"
      ],
      "metadata": {
        "colab": {
          "base_uri": "https://localhost:8080/"
        },
        "id": "f3F_3bdpCWlo",
        "outputId": "fd7a4b7a-0291-41fd-fdee-0ebbb609abbb"
      },
      "execution_count": null,
      "outputs": [
        {
          "output_type": "execute_result",
          "data": {
            "text/plain": [
              "1256.48"
            ]
          },
          "metadata": {},
          "execution_count": 19
        }
      ]
    },
    {
      "cell_type": "markdown",
      "source": [
        "¡Se necesitan MUUUUUUCHOS paquetes para lograr completar el álbum! Está claro que no es una buena estrategia completarlo sin cambiar las repetidas... Hacer un histograma de los datos de nuestra muestra, nos dará más información acerca de lo que ocurrió en la simulación: si bien el promedio es algo así como $1257$, ¡hubo corridas de la simulación en las que se necesitaron cerca de $2000$ paquetes! (Siempre hay alguien que tiene mucha mala suerte, ¿no? Y muchas veces creemos que somos nosotros, je.)"
      ],
      "metadata": {
        "id": "ZXDb7yBCKfFu"
      }
    },
    {
      "cell_type": "code",
      "source": [
        "import seaborn as sns\n",
        "sns.set_palette(\"deep\", desat=.6)\n",
        "sns.set_context(rc={\"figure.figsize\": (8, 4)})\n",
        "\n",
        "sns.histplot(muestra)"
      ],
      "metadata": {
        "colab": {
          "base_uri": "https://localhost:8080/",
          "height": 448
        },
        "id": "BR4hskWMCs7E",
        "outputId": "e29f158b-ae78-4da5-ab74-c995b58b6cb9"
      },
      "execution_count": null,
      "outputs": [
        {
          "output_type": "execute_result",
          "data": {
            "text/plain": [
              "<Axes: ylabel='Count'>"
            ]
          },
          "metadata": {},
          "execution_count": 12
        },
        {
          "output_type": "display_data",
          "data": {
            "text/plain": [
              "<Figure size 640x480 with 1 Axes>"
            ],
            "image/png": "[encoded data removed]"
          },
          "metadata": {}
        }
      ]
    },
    {
      "cell_type": "markdown",
      "source": [
        "**[DISCLAIMER]** En la \"resolución a mano\" habíamos visto que una aproximación a la respuesta teórica rondaba los $1261$ paquetes. Con la simulación que hicimos acá, recuperamos un valor muy cercano a ese, pero valen las siguientes aclaraciones:\n",
        "\n",
        "- La simulación siempre dará un resultado aproximado, ¡pero muchas veces, esa aproximación será muy buena! ¿Por qué? Es lo que estudiaremos en la última posta del bloque de probabilidades: veremos que al aumentar $N$ (la cantidad de veces que repetimos el experimento), la estimación dada por el promedio de la muestra, convergerá a la verdadera esperanza.\n",
        "\n",
        "- El resultado aproximado que habíamos obtenido con la \"resolución a mano\" no es, exactamente, la esperanza que buscábamos, es decir, la esperanza del contexto más realista de todos. ¿Por qué? Porque nuestra \"cuenta a mano\" valía para paquetes de UNA figurita y no es del todo cierto que podamos dividir la esperanza (que sí obtuvimos de forma correcta al hacer las \"cuentas\" que dedujimos) por la cantidad de figuritas del paquete (5)... hay algunas cosas mínimas que deberíamos y eso hace que el resultado obtenido \"a mano\" no sea EXACTAMENTE el que estamos simulando acá. ¡Pero, no te preocupes, es CASI IDÉNTICO!\n",
        "\n",
        "**¡Vale la pena modelar y simular!**"
      ],
      "metadata": {
        "id": "WUb1HlCBYUjT"
      }
    }
  ],
  "metadata": {
    "kernelspec": {
      "display_name": "Python 3 (ipykernel)",
      "language": "python",
      "name": "python3"
    },
    "language_info": {
      "codemirror_mode": {
        "name": "ipython",
        "version": 3
      },
      "file_extension": ".py",
      "mimetype": "text/x-python",
      "name": "python",
      "nbconvert_exporter": "python",
      "pygments_lexer": "ipython3",
      "version": "3.8.10"
    },
    "colab": {
      "provenance": [],
      "toc_visible": true,
      "include_colab_link": true
    }
  },
  "nbformat": 4,
  "nbformat_minor": 0
}