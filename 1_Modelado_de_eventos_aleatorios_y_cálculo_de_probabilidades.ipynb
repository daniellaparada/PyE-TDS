{
  "cells": [
    {
      "cell_type": "markdown",
      "metadata": {
        "id": "view-in-github",
        "colab_type": "text"
      },
      "source": [
        "<a href=\"https://colab.research.google.com/github/daniellaparada/PyE-TDS/blob/main/1_Modelado_de_eventos_aleatorios_y_c%C3%A1lculo_de_probabilidades.ipynb\" target=\"_parent\"><img src=\"https://colab.research.google.com/assets/colab-badge.svg\" alt=\"Open In Colab\"/></a>"
      ]
    },
    {
      "cell_type": "markdown",
      "metadata": {
        "id": "pR93WFeRk9Qq"
      },
      "source": [
        "# Cálculo y estimación de probabilidades\n",
        "\n",
        "En este *notebook* estudiaremos dos enfoques para el estudio de la probabilidad de eventos aleatorios:\n",
        "\n",
        "- Calcular las probabilidades a mano, de forma exacta, usando la teoría de probabilidades que estudiamos y utilizando Python como \"calculadora\".\n",
        "\n",
        "- Simular el experimento y estimar las probabilidades a partir de la frecuencia relativa. Esta estrategia es sumamente útil, especialmente cuándo no podemos calcular la probabilidad (¡hay muchos experimentos difíciles de modelar y en los que el cálculo de probabilidades no es fácil!). Estudiaremos el \"porqué\" de que esta estrategia funcione recién en la Posta 4, cuando estudiemos resultados de convergencia. Por ahora, con la intuición bastará.\n",
        "\n",
        "Al final del *notebook* encontrarás la consigna para el Trabajo de Simulación 1."
      ]
    },
    {
      "cell_type": "markdown",
      "source": [
        "## Cálculo de probabilidades\n",
        "\n",
        "Comenzaremos esta sección calculando \"a mano\" algunas probabilidades que surgen de ejercicios similares a los del Libro y la Práctica 1."
      ],
      "metadata": {
        "id": "yc6GiBkzyP2M"
      }
    },
    {
      "cell_type": "markdown",
      "source": [
        "### Ejemplo 1\n",
        "\n",
        "Escribir un código para determinar, por enumeración, un espacio muestral finito y equiprobable para el experimento aleatorio que consiste en lanzar una moneda dos veces."
      ],
      "metadata": {
        "id": "QHSVCcaiyku-"
      }
    },
    {
      "cell_type": "code",
      "source": [
        "posibles = {\"cara\",\"cruz\"}\n",
        "espacio_muestral = set()\n",
        "for tiro1 in posibles:\n",
        "  for tiro2 in posibles:\n",
        "    salida = (tiro1, tiro2)\n",
        "    espacio_muestral.add(salida)\n",
        "print(espacio_muestral)"
      ],
      "metadata": {
        "id": "g6smEVsZ0HsT",
        "colab": {
          "base_uri": "https://localhost:8080/"
        },
        "outputId": "5774d2b4-b31d-46d5-ffe3-e8a887f165a5"
      },
      "execution_count": 1,
      "outputs": [
        {
          "output_type": "stream",
          "name": "stdout",
          "text": [
            "{('cruz', 'cruz'), ('cruz', 'cara'), ('cara', 'cruz'), ('cara', 'cara')}\n"
          ]
        }
      ]
    },
    {
      "cell_type": "markdown",
      "source": [
        "¿Qué hicimos en el código anterior? \n",
        "\n",
        "* usamos la función ``set()`` para crear un conjunto vacío;\n",
        "* usamos el ciclo ``for`` para los recorrer, itereativamente, los elementos del conjunto anterior. Notemos que debimos hacerlo dos veces ya que debíamos armar pares ordenados con el producto cartesiano del conjunto \"posibles\".\n",
        "* usamos la función ``.add`` para añadir cada elemento al conjunto.\n",
        "\n",
        "Lo anterior es útil, pero poco práctico si tuviéramos que obtener los elementos del espacio muestral de un experimento análogo, pero con 4 lanzamientos. ¿Por qué? Porque deberíamos recorrer un ciclo ``for`` cuatro veces... Hay formas más eficientes de hacer esto.\n",
        "\n",
        "Para hacerlo más eficiente, vamos a usar la función ``product`` de la librería ``itertools``, que nos permitirá armar el producto cartesiano del conjunto \"posibles\" para armar las 4-uplas del espacio muestral. Al final, usamos la función ``len`` para contar los elementos del espacio, es decir, para conocer su cardinal."
      ],
      "metadata": {
        "id": "TD5QPExW1D6J"
      }
    },
    {
      "cell_type": "code",
      "source": [
        "from itertools import product\n",
        "posibles = {\"cara\",\"cruz\"}\n",
        "espacio_muestral = set(product(posibles, repeat=4))\n",
        "print(espacio_muestral)\n",
        "len(espacio_muestral)"
      ],
      "metadata": {
        "id": "5j0jYow42Lfk",
        "colab": {
          "base_uri": "https://localhost:8080/"
        },
        "outputId": "5e786809-2466-4b96-e973-2eb7addeb6fe"
      },
      "execution_count": 2,
      "outputs": [
        {
          "output_type": "stream",
          "name": "stdout",
          "text": [
            "{('cruz', 'cara', 'cara', 'cara'), ('cara', 'cruz', 'cara', 'cruz'), ('cara', 'cruz', 'cruz', 'cara'), ('cruz', 'cara', 'cruz', 'cruz'), ('cruz', 'cruz', 'cruz', 'cara'), ('cara', 'cara', 'cara', 'cruz'), ('cara', 'cara', 'cruz', 'cara'), ('cruz', 'cruz', 'cara', 'cara'), ('cara', 'cruz', 'cara', 'cara'), ('cara', 'cruz', 'cruz', 'cruz'), ('cruz', 'cara', 'cruz', 'cara'), ('cara', 'cara', 'cara', 'cara'), ('cruz', 'cara', 'cara', 'cruz'), ('cara', 'cara', 'cruz', 'cruz'), ('cruz', 'cruz', 'cruz', 'cruz'), ('cruz', 'cruz', 'cara', 'cruz')}\n"
          ]
        },
        {
          "output_type": "execute_result",
          "data": {
            "text/plain": [
              "16"
            ]
          },
          "metadata": {},
          "execution_count": 2
        }
      ]
    },
    {
      "cell_type": "markdown",
      "source": [
        "### Ejemplo 2\n",
        "\n",
        "1. Escribir un código para determinar por enumeración un espacio muestral finito y equiprobable para el experimento de lanzar 3 dados y registrar los resultados obtenidos.\n",
        "2. Escribir un código para determinar los elementos del evento \"la suma de los resultados en dos lanzamientos de un dado no sea mayor que 7\".\n",
        "3. Calcular la probabilidad del evento del ítem anterior."
      ],
      "metadata": {
        "id": "rZtmGez73hVY"
      }
    },
    {
      "cell_type": "code",
      "source": [
        "# 2.1)\n",
        "posibles = range(1,7)\n",
        "espacio_muestral = set(product(posibles, repeat=2)) \n",
        "print(espacio_muestral)"
      ],
      "metadata": {
        "id": "smdZ6U4H2chb",
        "colab": {
          "base_uri": "https://localhost:8080/"
        },
        "outputId": "ad3a2d30-1afa-4579-bda3-f5365c770cd4"
      },
      "execution_count": 3,
      "outputs": [
        {
          "output_type": "stream",
          "name": "stdout",
          "text": [
            "{(3, 4), (4, 3), (3, 1), (5, 4), (4, 6), (5, 1), (2, 2), (1, 6), (2, 5), (1, 3), (6, 2), (6, 5), (4, 2), (4, 5), (3, 3), (5, 6), (3, 6), (5, 3), (2, 4), (1, 2), (2, 1), (1, 5), (6, 1), (6, 4), (3, 2), (4, 1), (3, 5), (5, 2), (4, 4), (5, 5), (1, 1), (1, 4), (2, 3), (2, 6), (6, 6), (6, 3)}\n"
          ]
        }
      ]
    },
    {
      "cell_type": "code",
      "source": [
        "# 2.2)\n",
        "E = set(x for x in espacio_muestral if sum(x)<7)\n",
        "print(E)"
      ],
      "metadata": {
        "id": "YP4mwzLU5ACY",
        "colab": {
          "base_uri": "https://localhost:8080/"
        },
        "outputId": "727956fc-f572-4f3c-d02e-1637c0728688"
      },
      "execution_count": 4,
      "outputs": [
        {
          "output_type": "stream",
          "name": "stdout",
          "text": [
            "{(2, 4), (1, 2), (2, 1), (1, 5), (3, 1), (4, 1), (1, 1), (5, 1), (4, 2), (1, 4), (2, 3), (3, 3), (2, 2), (3, 2), (1, 3)}\n"
          ]
        }
      ]
    },
    {
      "cell_type": "code",
      "source": [
        "# 2.3)\n",
        "len(E)/len(espacio_muestral)"
      ],
      "metadata": {
        "id": "7szKR_dZ5Ebm",
        "colab": {
          "base_uri": "https://localhost:8080/"
        },
        "outputId": "f935eefd-f5b1-4ce6-d63c-3efe8930c92c"
      },
      "execution_count": 5,
      "outputs": [
        {
          "output_type": "execute_result",
          "data": {
            "text/plain": [
              "0.4166666666666667"
            ]
          },
          "metadata": {},
          "execution_count": 5
        }
      ]
    },
    {
      "cell_type": "markdown",
      "source": [
        "¿Qué hicimos en el código anterior? \n",
        "\n",
        "* usamos la función ``range()`` para crear el conjunto de posibles resultados del lanzamiento de un dado. Hay que recordar que ``range(a,b)`` devuelve los números enteros del intervalo $[a,b)$;\n",
        "* usamos la función ``set()`` y ``product`` para armar el producto cartesiano del conjunto \"posibles\" para armar las duplas del espacio muestral. Ya habíamos cargado la función ``product`` de la librería ``itertools`` en esta sesión, por lo que no es necesario cargarla nuevamente;\n",
        "* usamos la función ``set()`` para crear el conjunto del evento de interés y la sintaxis ``x for x in ...`` para poder dar la condición ``if`` que deberán cumplir los elementos que integrarán este conjunto. En este caso, usamos la función ``sum()`` para poder representar la condición de que la suma no sea mayor que 7, es decir, ``sum(x)<7``. Esta línea de código, entonces, guarda en el conjunto creado todos los elementos del espacio muestral tales que su suma es menor que 7;\n",
        "* al final, usamos la función ``len`` para contar los elementos del conjunto y del espacio y, con esos cardinales, calcular la probabilidad pedida. Esto es posible ya que el espacio muestral así definido es finito y equiprobable."
      ],
      "metadata": {
        "id": "Oez8ea295EHN"
      }
    },
    {
      "cell_type": "markdown",
      "source": [
        "### Ejemplo 3\n",
        "\n",
        "Escribir un código para calcular la probabilidad de que la suma de los resultados del lanzamiento de 3 dados sea un múltiplo de 3."
      ],
      "metadata": {
        "id": "dn22VCvP7dPP"
      }
    },
    {
      "cell_type": "code",
      "source": [
        "posibles = range(1,7)\n",
        "espacio_muestral = set(product(posibles, repeat=3))\n",
        "E = set(x for x in espacio_muestral if sum(x)%3==0)\n",
        "len(E)/len(espacio_muestral)"
      ],
      "metadata": {
        "id": "oXEB8ot17s4K",
        "colab": {
          "base_uri": "https://localhost:8080/"
        },
        "outputId": "c42d8b19-8591-4c70-dc5e-040f8ac76cd5"
      },
      "execution_count": 6,
      "outputs": [
        {
          "output_type": "execute_result",
          "data": {
            "text/plain": [
              "0.3333333333333333"
            ]
          },
          "metadata": {},
          "execution_count": 6
        }
      ]
    },
    {
      "cell_type": "markdown",
      "source": [
        "¿Qué hicimos en el código anterior?\n",
        "\n",
        "Integramos todo lo que aprendimos antes. Notemos que en solo 4 líneas de código fue posible calcular una probabilidad que, de haberla querido calcular a mano, no hubiera sido sencillo. ¿Qué hubiese sido lo difícil? Posiblemente, el saber cuántos elementos de $\\Omega$ hay en el conjunto $E$ asociado al evento \"la suma de los resultados del lanzamiento de 3 dados sea un múltiplo de 3\".\n",
        "\n",
        "Sin embargo, al usar la condición ``sum(x)%3==0`` pudimos pedirle a la computadora que guarde todos los elementos que nos interesaba para luego contarlos y calcular la probabilidad buscada. Recordemos que el operador ``%`` calcula el resto de la división entera y, como queremos las ternas de $\\Omega$ cuya suma sea divisible por 3, el resto de dividir esa suma por 3 tiene que ser 0."
      ],
      "metadata": {
        "id": "pmZJ173L8L4r"
      }
    },
    {
      "cell_type": "markdown",
      "source": [
        "### Ejemplo 4\n",
        "\n",
        "Escribir un código para calcular la probabilidad de que el producto de los resultados de tres lanzamientos de un dados sea menor que 50."
      ],
      "metadata": {
        "id": "fVZ_i7UU97hr"
      }
    },
    {
      "cell_type": "code",
      "source": [
        "posibles = range(1,7)\n",
        "espacio_muestral = set(product(posibles, repeat=3))\n",
        "import numpy as np\n",
        "E = set(x for x in espacio_muestral if np.prod(x)<50)\n",
        "len(E)/len(espacio_muestral)"
      ],
      "metadata": {
        "id": "DRBNq3ue-LaY",
        "colab": {
          "base_uri": "https://localhost:8080/"
        },
        "outputId": "4762fd12-7be9-4344-c0fd-809103f9991a"
      },
      "execution_count": 7,
      "outputs": [
        {
          "output_type": "execute_result",
          "data": {
            "text/plain": [
              "0.6944444444444444"
            ]
          },
          "metadata": {},
          "execution_count": 7
        }
      ]
    },
    {
      "cell_type": "markdown",
      "source": [
        "¿Qué hicimos en el código anterior?\n",
        "\n",
        "Algo muy parecido a lo que hicimos en el Ejemplo 3, solo que ahora la condición era que el producto de los elementos de la terna resultara menor que 50. Para poder multiplicar los elementos de la terna usamos la función ``prod`` de la librería ``numpy``. \n",
        "\n",
        "La librería ``numpy`` de Python permite realizar cálculos avanzados, como los que típicamente encontraríamos en una buena calculadora científica. Con la sintaxis ``import numpy as np``, importamos todas las funciones disponibles en ella, pues como es una librería que usaremos con bastante frecuencia, no conviene ir importando una a una sus funciones. La abreviatura ``np`` nos permite usar sus funciones usando una sintaxis del tipo ``np.function()`` en lugar de ``numpy.function()``. Es frecuente usar este tipo de abreviaturas.\n",
        "\n",
        "De esta forma, ``np.prod(x)`` permite calcular el producto conjunto de todos los elementos del objeto ``(x)``."
      ],
      "metadata": {
        "id": "NAo-EJha-eo6"
      }
    },
    {
      "cell_type": "markdown",
      "source": [
        "## Estimación de probabilidades\n",
        "\n",
        "Comenzaremos esta sección estimando algunas probabilidades que surgen de ejercicios similares a los del Libro y la Práctica 1 y que podremos estimar a través de simulaciones.\n",
        "\n",
        "En esencia, lo que haremos será simular un experimento aleatorio con Python y repeirlo una gran cantidad de veces para ver la frecuencia relativa de algún evento de interés. Pero antes de continuar, tenemos que presentar los números pseudo-aleatorios."
      ],
      "metadata": {
        "id": "Q4UG_9ErAGss"
      }
    },
    {
      "cell_type": "markdown",
      "source": [
        "### Números pseudo-aleatorios\n",
        "\n",
        "Cualquier lenguaje de programación tiene una función ``random``, que cuando la llamamos nos devuelve un número pseudo-aleatorio entre 0 y 1. \n",
        "\n",
        "Un número es aleatorio si la probabilidad de ser elegido fuera la misma para cualquiera de los de su clase, es decir, si todos ellos fueran *igualmente probables*. Estos números pueden modelarse teóricamente y estudiaremos su distribución de probabilidades recién en la Posta 3, cuando visitemos la distribución uniforme.\n",
        "\n",
        "Ahora bien, los números aleatorios son muy difíciles de obtener y, en rigor, solo existen en la naturaleza. Sin embargo, después de muchos años de desarrollo e investigaciones de la Matemática y las Ciencias de la Computación, en la actualidad es posible obtener números _pseudo-aleatorios_, que no son aleatorios en sentido estricto pues son generados con algún algoritmo, pero se parecen _mucho_ a los que sí lo son. (¡A efectos prácticos son indistinguibles!)"
      ],
      "metadata": {
        "id": "AyHQKqGgxoAR"
      }
    },
    {
      "cell_type": "code",
      "execution_count": 8,
      "metadata": {
        "id": "twU7bOlUk9Qp"
      },
      "outputs": [],
      "source": [
        "# Importamos la librería random \n",
        "import random as rd"
      ]
    },
    {
      "cell_type": "code",
      "execution_count": 9,
      "metadata": {
        "id": "D8VcKU7rk9Qr",
        "colab": {
          "base_uri": "https://localhost:8080/"
        },
        "outputId": "2bce61be-221f-453b-b998-adcc8b5c3fa5"
      },
      "outputs": [
        {
          "output_type": "execute_result",
          "data": {
            "text/plain": [
              "0.6130322053431637"
            ]
          },
          "metadata": {},
          "execution_count": 9
        }
      ],
      "source": [
        "#Cada vez que ejecutamos este código obtenemos un número distinto entre 0 y 1:\n",
        "rd.random()"
      ]
    },
    {
      "cell_type": "code",
      "execution_count": 10,
      "metadata": {
        "id": "oWJa6CxWk9Qr",
        "colab": {
          "base_uri": "https://localhost:8080/"
        },
        "outputId": "97b5ad32-d9ed-4c2a-8220-93dbb24eb20d"
      },
      "outputs": [
        {
          "output_type": "stream",
          "name": "stdout",
          "text": [
            "0.5086496553193538\n",
            "0.7906669683280158\n",
            "0.2784878520399042\n",
            "0.1647214198813176\n",
            "0.951607138815393\n",
            "0.62970527168939\n",
            "0.7413956400290552\n",
            "0.27496145060236055\n",
            "0.0915162671231996\n",
            "0.13986565156470698\n"
          ]
        }
      ],
      "source": [
        "#Generamos 10 números pseudo-aleatorios y los imprimimos\n",
        "for i in range(10):\n",
        "    print(rd.random())"
      ]
    },
    {
      "cell_type": "markdown",
      "metadata": {
        "id": "lBsBVvs0k9Qs"
      },
      "source": [
        "Además, Python nos ofrece otras funciones prácticas:\n",
        "\n",
        " - ``rd.randint(a,b)`` devuelve un número entero entre a y b (inclusive). Todos los números entre a y b son *igualmente probables*.\n",
        " - ``rd.choice(lista)`` devuelve un elemento de ``lista`` (que debe ser una lista, cadena de caracteres, conjunto...). Todos los elementos son *igualmente probables*."
      ]
    },
    {
      "cell_type": "code",
      "execution_count": 11,
      "metadata": {
        "id": "pnEN4Xfvk9Qs",
        "colab": {
          "base_uri": "https://localhost:8080/"
        },
        "outputId": "d798d6b4-7c7b-4f8b-d07d-abe6c6221589"
      },
      "outputs": [
        {
          "output_type": "stream",
          "name": "stdout",
          "text": [
            "14\n",
            "14\n",
            "15\n",
            "15\n",
            "17\n",
            "13\n",
            "15\n",
            "15\n",
            "18\n",
            "19\n"
          ]
        }
      ],
      "source": [
        "for i in range(10):\n",
        "    print (rd.randint(10,20))"
      ]
    },
    {
      "cell_type": "code",
      "execution_count": 12,
      "metadata": {
        "id": "4FRW1Vgxk9Qs",
        "colab": {
          "base_uri": "https://localhost:8080/"
        },
        "outputId": "37b25fe3-1059-4ac3-daf3-7a8129a0e1cc"
      },
      "outputs": [
        {
          "output_type": "stream",
          "name": "stdout",
          "text": [
            "O\n",
            "O\n",
            "E\n",
            "A\n",
            "I\n",
            "A\n",
            "E\n",
            "A\n",
            "U\n",
            "A\n"
          ]
        }
      ],
      "source": [
        "for i in range(10):\n",
        "    print(rd.choice('AEIOU'))"
      ]
    },
    {
      "cell_type": "markdown",
      "metadata": {
        "id": "Vpfi3w9Kk9Qs"
      },
      "source": [
        "### Semilla aleatoria\n",
        "\n",
        "Como decíamos, estos números *parecen aleatorios* pero no lo son, porque **la computadora los obtiene aplicando reglas deterministas, algoritmos**. También vimos que esto no es un inconveniente en la práctica, porque son casi imposibles de distinguir de números auténticamente aleatorios.\n",
        "\n",
        "De hecho, es una virtud, porque si fijamos una **semilla**, podemos obtener exactamente los mismos números, aunque hagamos el cálculo en máquinas distintas hoy, o varios años después."
      ]
    },
    {
      "cell_type": "code",
      "execution_count": 13,
      "metadata": {
        "id": "8-7LMPzjk9Qt",
        "colab": {
          "base_uri": "https://localhost:8080/"
        },
        "outputId": "ecc43c8b-244f-4117-e12d-e3926d5ac5fb"
      },
      "outputs": [
        {
          "output_type": "stream",
          "name": "stdout",
          "text": [
            "0.13436424411240122\n",
            "0.8474337369372327\n",
            "0.763774618976614\n",
            "0.2550690257394217\n",
            "0.49543508709194095\n",
            "0.4494910647887381\n",
            "0.651592972722763\n",
            "0.7887233511355132\n",
            "0.0938595867742349\n",
            "0.02834747652200631\n",
            "16\n",
            "16\n",
            "19\n",
            "10\n",
            "17\n",
            "14\n",
            "13\n",
            "19\n",
            "11\n",
            "15\n",
            "A\n",
            "A\n",
            "A\n",
            "U\n",
            "A\n",
            "O\n",
            "E\n",
            "O\n",
            "A\n",
            "U\n",
            "0.13436424411240122\n",
            "0.8474337369372327\n",
            "0.763774618976614\n",
            "0.2550690257394217\n",
            "0.49543508709194095\n",
            "0.4494910647887381\n",
            "0.651592972722763\n",
            "0.7887233511355132\n",
            "0.0938595867742349\n",
            "0.02834747652200631\n"
          ]
        }
      ],
      "source": [
        "# Si cambiamos la semilla, las elecciones cambian,\n",
        "# pero con la misma semilla obtenemos los mismos resultados.\n",
        "rd.seed(1)\n",
        "for i in range(10):\n",
        "    print (rd.random())\n",
        "for i in range(10):\n",
        "    print (rd.randint(10,20))\n",
        "for i in range(10):\n",
        "    print(rd.choice('AEIOU'))\n",
        "\n",
        "# Con esto deberíamos obtener la misma secuencia del inicio \n",
        "rd.seed(1)\n",
        "for i in range(10):\n",
        "    print (rd.random())"
      ]
    },
    {
      "cell_type": "markdown",
      "metadata": {
        "id": "TZNkKGX0k9Qt"
      },
      "source": [
        "### Simulaciones numéricas\n",
        "\n",
        "Vamos a simular un ejercicio típico de probabilidad. Usaremos siempre el mismo enfoque:\n",
        "\n",
        "- Escribimos una función aleatoria: *devuelve el resultado de simular el experimento una vez*. El resultado es distinto cada vez que llamamos a la función, y las distintas llamadas son **independientes** (por ahora nos conformaremos con una noción intuitiva de *independencia*: las llamadas son independientes porque el resultado de una llamada no nos ayuda a predecir el resultado de llamar una segunda vez). Es necesario ser capaces de simular el resultado del experimento usando las funciones del módulo ``random``.\n",
        "- Tomamos una **muestra** de tamaño finito, llamando a la función anterior un número ``N`` de veces.\n",
        "- Si queremos calcular la probabilidad de un *evento E* , necesitaremos una función que reciba como argumento un elemento ``x`` del espacio muestral, y devuelva ``True``si ``x`` pertenece al *evento E*, y ``False`` en caso contrario.\n",
        "- Nuestra *aproximación a la probabilidad del evento E* será la *proporción* de elementos de la muestra que pertenecen a E, es decir\n",
        "\n",
        "$$ P(A) \\approx \\frac{\\text{nº de casos favorables}}{\\text{tamaño de la muestra}}.$$\n",
        "\n",
        "En la Posta 4 estudiaremos por qué esta estrategia efectivamente estima/aproxima a la probabilidad del evento de interés. Por ahora, con la intuición es suficiente."
      ]
    },
    {
      "cell_type": "markdown",
      "metadata": {
        "id": "TWpfNId9k9Qt"
      },
      "source": [
        "#### Estructura de una simulación\n",
        "\n",
        "#### 1): Experimento aleatorio\n",
        "\n",
        "Cada ejecución del experimento aleatorio devuelve un elemento del espacio muestral.\n",
        "\n",
        "```python\n",
        "def experimento():\n",
        "    resultado = ... random ...\n",
        "    return resultado\n",
        "```\n",
        "\n",
        "#### 2): Muestra aleatoria\n",
        "\n",
        "Recopilamos la muestra aleatoria, ejecutando el experimento un número N de veces.\n",
        "\n",
        "```python\n",
        "# Cuanto mayor N, más costoso es para la computadora, \n",
        "# pero nos provee una mejor aproximación de la probabilidad.\n",
        "N = 1000\n",
        "\n",
        "# La función \"muestra\" hace N llamadas a la misma función \"experimento\", \n",
        "# que cada vez, devuelve un resultado distinto\n",
        "muestra = [experimento() for _ in range(N)]\n",
        "```\n",
        "\n",
        "\n",
        "#### 3): Una función _\"filtro\"_ que caracteriza el evento E\n",
        "\n",
        "Devuelve True para los eventos elementales que pertenecen al evento A\n",
        "```python\n",
        "def es_evento_E(resultado):\n",
        "    if ... condicion ... :\n",
        "        return True\n",
        "    else:\n",
        "        return False\n",
        "```\n",
        "\n",
        "#### 4: Aproximamos P(A) por la proporción de elementos de A en la muestra\n",
        "\n",
        "Aproximamos la probabilidad de E por la proporción  de elementos de E en la muestra: _sumamos 1 por cada elemento de la muestra que está en E_.\n",
        "\n",
        "```python\n",
        "# Para cada elemento \"e\" de la muestra, es_evento_E(e) es True\n",
        "# si \"e\" pertenece a E. La suma de una secuencia de booleanos es la \n",
        "# cantidad de booleanos que son \"True\"\n",
        "proporcion_E = sum(es_evento_E(e) for e in muestra)\n",
        "\n",
        "```"
      ]
    },
    {
      "cell_type": "markdown",
      "metadata": {
        "id": "g2KnIy2dk9Qu"
      },
      "source": [
        "### Ejemplo 5\n",
        "\n",
        "Se tienen dos urnas, y cada una de ellas contiene un número diferente de bolas blancas y rojas:\n",
        " - Primera urna, U1: 3 bolas blancas y 2 rojas;\n",
        " - Segunda urna, U2: 4 bolas blancas y 2 rojas.\n",
        "\n",
        "Se realiza el siguiente experimento aleatorio: se tira una moneda al aire y  \n",
        "\n",
        "*   si sale cara se elige una bola de la primera urna y\n",
        "*   si sale cruz se elige una bola de la segunda urna. \n",
        "\n",
        "¿Cuál es la probabilidad de que salga una bola blanca?\n",
        "\n",
        "Resolver \"a mano\", con lápiz y papel (la respuesta es $\\frac{19}{30}$); luego, armar una simulación con $N=1000$ y estudiar si lo obtenido se aproxima a la probabilidad verdadera."
      ]
    },
    {
      "cell_type": "code",
      "execution_count": 14,
      "metadata": {
        "id": "2bwM7kXFk9Qu"
      },
      "outputs": [],
      "source": [
        "#### 1: Experimento aleatorio\n",
        "def experimento_urnas():\n",
        "    '''\n",
        "    Función aleatoria que devuelve el resultado de simular el experimento *una vez*.\n",
        "    El resultado es distinto cada vez que llamamos a la función.\n",
        "    El resultado puede ser 'B' (bola blanca) o 'R' (bola roja)\n",
        "    '''\n",
        "    # Lanzamos la \"moneda\". \n",
        "    # Notemos que \"lanzar la moneda\" dará lugar a la misma \n",
        "    # distribución de probabilidades que elegir entre los \n",
        "    # números 1 y 2 con igual probabilidad (0.5 cada uno).\n",
        "    urna = rd.randint(1,2)\n",
        "    if urna == 1:\n",
        "        # Sacamos una bola de la urna 1.\n",
        "        return rd.choice('BBBRR')\n",
        "    else:\n",
        "        # Sacamos una bola de la urna 2.\n",
        "        return rd.choice('BBBBRR')"
      ]
    },
    {
      "cell_type": "code",
      "execution_count": 15,
      "metadata": {
        "id": "VwI7HUZUk9Qu",
        "colab": {
          "base_uri": "https://localhost:8080/"
        },
        "outputId": "4739915a-627a-42f8-ae7c-77b68be76c77"
      },
      "outputs": [
        {
          "output_type": "stream",
          "name": "stdout",
          "text": [
            "B\n",
            "R\n",
            "R\n",
            "R\n",
            "B\n",
            "B\n",
            "R\n",
            "R\n",
            "R\n",
            "R\n"
          ]
        }
      ],
      "source": [
        "# Probamos la función. \n",
        "# Es decir, simulamos 10 repeticiones de este experimento.\n",
        "for _ in range(10):\n",
        "    bola = experimento_urnas()\n",
        "    print(bola)"
      ]
    },
    {
      "cell_type": "code",
      "execution_count": 16,
      "metadata": {
        "id": "rV-CFrUvk9Qu",
        "colab": {
          "base_uri": "https://localhost:8080/"
        },
        "outputId": "459b3335-0a00-45bb-abd7-d72955e1c6fa"
      },
      "outputs": [
        {
          "output_type": "stream",
          "name": "stdout",
          "text": [
            "['R', 'R', 'B', 'B', 'B', 'R', 'B', 'B', 'R', 'R']\n"
          ]
        }
      ],
      "source": [
        "#### 2: Muestra aleatoria\n",
        "# Sintentizamos lo anterior con un N=10 para ver que funciona bien.\n",
        "N = 10\n",
        "muestra = [experimento_urnas() for _ in range(N)]\n",
        "print(muestra)"
      ]
    },
    {
      "cell_type": "code",
      "execution_count": 17,
      "metadata": {
        "id": "Cy-O_lJ1k9Qu"
      },
      "outputs": [],
      "source": [
        "#### 3: Una función _\"filtro\"_ que caracteriza el evento E\n",
        "\n",
        "def es_bola_blanca(bola):\n",
        "    '''\n",
        "    Función que recibe como argumento un string, que puede ser\n",
        "        \"B\" (representa una bola blanca)\n",
        "        \"R\" (representa una bola roja)\n",
        "    Devuelve True <=> el argumento es \"B\" (una bola blanca)\n",
        "    '''\n",
        "    return (bola=='B')"
      ]
    },
    {
      "cell_type": "code",
      "execution_count": 18,
      "metadata": {
        "id": "I5aT312Tk9Qv"
      },
      "outputs": [],
      "source": [
        "#### Código alternativo totalmente equivalente al anterior\n",
        "def es_bola_blanca(bola):\n",
        "    '''\n",
        "    Función que recibe como argumento un string, que puede ser\n",
        "        \"B\" (representa una bola blanca)\n",
        "        \"R\" (representa una bola roja)\n",
        "    Devuelve True <=> el argumento es \"B\" (una bola blanca)\n",
        "    '''\n",
        "    if bola=='B':\n",
        "        return True\n",
        "    else:\n",
        "        return False"
      ]
    },
    {
      "cell_type": "code",
      "execution_count": 19,
      "metadata": {
        "id": "KXsf1UdTk9Qv",
        "colab": {
          "base_uri": "https://localhost:8080/"
        },
        "outputId": "d5c6a6b3-0582-4559-d120-5232bd9aba76"
      },
      "outputs": [
        {
          "output_type": "execute_result",
          "data": {
            "text/plain": [
              "['B',\n",
              " 'R',\n",
              " 'B',\n",
              " 'R',\n",
              " 'B',\n",
              " 'B',\n",
              " 'B',\n",
              " 'R',\n",
              " 'B',\n",
              " 'R',\n",
              " 'R',\n",
              " 'B',\n",
              " 'B',\n",
              " 'B',\n",
              " 'B',\n",
              " 'B',\n",
              " 'B',\n",
              " 'R',\n",
              " 'B',\n",
              " 'B',\n",
              " 'B',\n",
              " 'B',\n",
              " 'B',\n",
              " 'R',\n",
              " 'R',\n",
              " 'R',\n",
              " 'B',\n",
              " 'B',\n",
              " 'R',\n",
              " 'B',\n",
              " 'B',\n",
              " 'B',\n",
              " 'B',\n",
              " 'B',\n",
              " 'R',\n",
              " 'B',\n",
              " 'B',\n",
              " 'R',\n",
              " 'B',\n",
              " 'R',\n",
              " 'R',\n",
              " 'B',\n",
              " 'R',\n",
              " 'B',\n",
              " 'B',\n",
              " 'B',\n",
              " 'B',\n",
              " 'B',\n",
              " 'R',\n",
              " 'B',\n",
              " 'B',\n",
              " 'R',\n",
              " 'R',\n",
              " 'R',\n",
              " 'B',\n",
              " 'B',\n",
              " 'B',\n",
              " 'B',\n",
              " 'B',\n",
              " 'B',\n",
              " 'B',\n",
              " 'B',\n",
              " 'R',\n",
              " 'B',\n",
              " 'R',\n",
              " 'B',\n",
              " 'R',\n",
              " 'R',\n",
              " 'B',\n",
              " 'B',\n",
              " 'B',\n",
              " 'R',\n",
              " 'B',\n",
              " 'B',\n",
              " 'B',\n",
              " 'R',\n",
              " 'B',\n",
              " 'R',\n",
              " 'B',\n",
              " 'B',\n",
              " 'R',\n",
              " 'R',\n",
              " 'B',\n",
              " 'R',\n",
              " 'B',\n",
              " 'B',\n",
              " 'R',\n",
              " 'B',\n",
              " 'B',\n",
              " 'B',\n",
              " 'B',\n",
              " 'B',\n",
              " 'B',\n",
              " 'B',\n",
              " 'B',\n",
              " 'R',\n",
              " 'R',\n",
              " 'R',\n",
              " 'R',\n",
              " 'B']"
            ]
          },
          "metadata": {},
          "execution_count": 19
        }
      ],
      "source": [
        "# Fijamos una semilla para que los resultados sean reproducibles.\n",
        "# Testeamos la función anterior para un N grande\n",
        "rd.seed(123) \n",
        "N = 100\n",
        "muestra = [experimento_urnas() for _ in range(N)]\n",
        "muestra"
      ]
    },
    {
      "cell_type": "code",
      "source": [
        "#### 4: Aproximamos P(A) por la proporción de elementos de A en la muestra\n",
        "prob = sum(1 for e in muestra if es_bola_blanca(e))/N\n",
        "print('Probabilidad aproximada de bola blanca:', prob)\n",
        "\n",
        "# Probá cambiando la semilla: vas a ver que la aproximación cambia,\n",
        "# pero, en general, variará \"cerca\" del verdadero valor 19/30=0.633... ."
      ],
      "metadata": {
        "id": "HAOvkZBLIReP",
        "colab": {
          "base_uri": "https://localhost:8080/"
        },
        "outputId": "05013b5b-a923-4c24-aa73-71600134ff70"
      },
      "execution_count": 20,
      "outputs": [
        {
          "output_type": "stream",
          "name": "stdout",
          "text": [
            "Probabilidad aproximada de bola blanca: 0.66\n"
          ]
        }
      ]
    },
    {
      "cell_type": "markdown",
      "metadata": {
        "id": "cCJA1Htqk9Qv"
      },
      "source": [
        "### Ejemplo 6\n",
        "\n",
        "Una urna contiene 5 bolas numeradas 1, 2, 3, 4 y 5. Calcular la probabilidad de que al sacar 2 bolas **con** reposición la suma de los números de las bolas sea impar."
      ]
    },
    {
      "cell_type": "code",
      "execution_count": 21,
      "metadata": {
        "id": "YN7hD89Kk9Qv"
      },
      "outputs": [],
      "source": [
        "#### 1: Experimento aleatorio\n",
        "numeros1al5 = list(range(1,6))\n",
        "\n",
        "def experimento_dos_bolas():\n",
        "    '''\n",
        "    Función aleatoria que devuelve el resultado de simular el experimento *una vez*.\n",
        "    El resultado es distinto cada vez que llamamos a la función.\n",
        "    El resultado es un par de números (las dos bolas)\n",
        "    '''\n",
        "    bola1 = rd.choice(numeros1al5)\n",
        "    bola2 = rd.choice(numeros1al5)\n",
        "    return [bola1, bola2]"
      ]
    },
    {
      "cell_type": "code",
      "execution_count": 22,
      "metadata": {
        "id": "RpwSb3Cjk9Qv",
        "colab": {
          "base_uri": "https://localhost:8080/"
        },
        "outputId": "0a03456d-6ceb-4f70-d390-ce165e9a07fb"
      },
      "outputs": [
        {
          "output_type": "execute_result",
          "data": {
            "text/plain": [
              "[3, 5]"
            ]
          },
          "metadata": {},
          "execution_count": 22
        }
      ],
      "source": [
        "# La chequeamos\n",
        "experimento_dos_bolas()"
      ]
    },
    {
      "cell_type": "code",
      "execution_count": 23,
      "metadata": {
        "id": "tcv93xZpk9Qw",
        "colab": {
          "base_uri": "https://localhost:8080/"
        },
        "outputId": "0e746c2f-943f-441d-d636-53eec9298c49"
      },
      "outputs": [
        {
          "output_type": "stream",
          "name": "stdout",
          "text": [
            "Probabilidad aproximada de que la suma sea impar: 0.485\n"
          ]
        }
      ],
      "source": [
        "#### 2: Muestra aleatoria\n",
        "rd.seed(123)\n",
        "N = 10000\n",
        "muestra = [experimento_dos_bolas() for _ in range(N)]\n",
        "\n",
        "#### 3: Una función _\"filtro\"_ \n",
        "def suma_es_impar(bolas):\n",
        "    return sum(bolas)%2 == 1\n",
        "\n",
        "#### 4: Aproximamos P(A) por la proporción de elementos de E en la muestra\n",
        "prob = sum(1 for e in muestra if suma_es_impar(e))/N\n",
        "print('Probabilidad aproximada de que la suma sea impar:', prob)"
      ]
    },
    {
      "cell_type": "markdown",
      "source": [
        "¿Te animás a calcular esta probabilidad \"a mano\"? Si no querés hacerlo \"a mano\" (con lápiz y papel), también podemos usar los ejemplos de la sección de cálculo de probabilidades de este Notebook."
      ],
      "metadata": {
        "id": "xgfKrogxJQ6C"
      }
    },
    {
      "cell_type": "markdown",
      "metadata": {
        "id": "WsfjyJJpk9Qw"
      },
      "source": [
        "### Ejemplo 7\n",
        "\n",
        "Una urna contiene 5 bolas numeradas 1, 2, 3, 4 y 5. Calcular la probabilidad de que al sacar 2 bolas **sin** reposición la sumade los números de las bolas sea impar."
      ]
    },
    {
      "cell_type": "code",
      "execution_count": 24,
      "metadata": {
        "id": "MVvsjsOik9Qw"
      },
      "outputs": [],
      "source": [
        "#### 1: Experimento aleatorio\n",
        "numeros1al5 = range(1,6)\n",
        "\n",
        "def experimento_dos_bolas_sin_reposicion():\n",
        "    '''\n",
        "    Función aleatoria que devuelve el resultado de simular el experimento *una vez*.\n",
        "    El resultado es distinto cada vez que llamamos a la función.\n",
        "    El resultado es un par de números (las dos bolas)\n",
        "    '''\n",
        "    # Usamos la función \"sample\" para elegir sin reposición\n",
        "    bolas = rd.sample(numeros1al5,2)\n",
        "    return (bolas)"
      ]
    },
    {
      "cell_type": "code",
      "execution_count": 25,
      "metadata": {
        "id": "RRiE5cntk9Qw",
        "colab": {
          "base_uri": "https://localhost:8080/"
        },
        "outputId": "5151ee05-0d50-4a53-8d1f-1f6349bf2e44"
      },
      "outputs": [
        {
          "output_type": "stream",
          "name": "stdout",
          "text": [
            "Probabilidad aproximada de que la suma sea impar: 0.587\n"
          ]
        }
      ],
      "source": [
        "#### 2: Muestra aleatoria\n",
        "rd.seed(1)\n",
        "N = 1000\n",
        "muestra = [experimento_dos_bolas_sin_reposicion() for _ in range(N)]\n",
        "\n",
        "#### 3: Una función _\"filtro\"_, \n",
        "# que es la misma que para el ejemplo 7 \n",
        "def suma_es_impar(bolas):\n",
        "    return sum(bolas)%2 == 1\n",
        "\n",
        "#### 4: Aproximamos P(A) por la proporción de elementos de A en la muestra\n",
        "prob = sum(suma_es_impar(e) for e in muestra)/N\n",
        "print('Probabilidad aproximada de que la suma sea impar:', prob)"
      ]
    },
    {
      "cell_type": "code",
      "execution_count": 26,
      "metadata": {
        "id": "UK-wEfOak9Qx",
        "colab": {
          "base_uri": "https://localhost:8080/"
        },
        "outputId": "42a703e1-9c96-4391-a359-088dbf22daa6"
      },
      "outputs": [
        {
          "output_type": "execute_result",
          "data": {
            "text/plain": [
              "[5, 2]"
            ]
          },
          "metadata": {},
          "execution_count": 26
        }
      ],
      "source": [
        "numeros1al5 = range(1,6)\n",
        "bolas = rd.sample(numeros1al5,2)\n",
        "bolas"
      ]
    },
    {
      "cell_type": "markdown",
      "metadata": {
        "id": "CaeA_vR_k9Qx"
      },
      "source": [
        "## Simulaciones numéricas versus cálculos exactos\n",
        "\n",
        "Vamos a comparar el resultado obtenido con la simulación del ejemplo 5 y el cálculo de la probabilidad exacta obtenida con lo que estudiamos en esta posta."
      ]
    },
    {
      "cell_type": "markdown",
      "source": [
        "### Ejemplo 5\n",
        "\n",
        "Acá detallamos algo del proceso relativo al cálculo de la probabilidad, de forma exacta, del ejemplo 5. La extracción de una bola blanca puede darse de dos formas:\n",
        "\n",
        " - Sale cara en la moneda, y después extraemos una bola blanca de la primera urna.\n",
        " - Sale cruz en la moneda, y después extraemos una bola blanca de la segunda urna.\n",
        " \n",
        "Ambos sucesos son incompatibles pues lo son ya que \"cara\" o \"cruz\" en la moneda son eventos complementarios. Luego, por el axioma 3 de la definición de probabilidad, la probabilidad de obtener bola blanca es la suma de las probabilidades de esos dos eventos. \n",
        "\n",
        "Por otro lado, cada evento tiene dos etapas, con sus eventos asociados: el lanzamiento de una moneda equilibrada y la extracción al azar de una bola en la urna correspondiente. Luego, la **probabilidad total** de que salga bola blanca es la suma de las dos probabilidades\n",
        "\n",
        " - P(Cara) $\\times$ P(Extraer bola blanca de la urna 1) = $\\frac{1}{2} \\times \\frac{3}{5}$\n",
        " - P(Cruz) $\\times$ P(Extraer bola blanca de la urna 2) = $\\frac{1}{2} \\times \\frac{4}{6}$\n",
        "\n",
        "Finalmente,\n",
        "$$\n",
        "P(\\text{bola blanca}) = \n",
        "\\frac{1}{2}\\times\\frac{3}{5} + \\frac{1}{2} \\times \\frac{4}{6} = \\frac{19}{30}.\n",
        "$$"
      ],
      "metadata": {
        "id": "1Q26Fn3WMB11"
      }
    },
    {
      "cell_type": "code",
      "execution_count": 27,
      "metadata": {
        "id": "5SgoGKYpk9Qx",
        "colab": {
          "base_uri": "https://localhost:8080/"
        },
        "outputId": "af0d7f4a-8697-4628-803c-74c6afb36ccc"
      },
      "outputs": [
        {
          "output_type": "stream",
          "name": "stdout",
          "text": [
            "Probabilidad aproximada de bola blanca: 0.62\n",
            "Probabilidad exacta de bola blanca: 0.6333333333333333\n"
          ]
        }
      ],
      "source": [
        "#### 2: Muestra aleatoria\n",
        "# Probamos otra semilla distinta a la que usamos en el ejemplo\n",
        "rd.seed(124) \n",
        "N = 1000\n",
        "muestra = [experimento_urnas() for _ in range(N)]\n",
        "\n",
        "#### 4: Aproximamos P(A) por la proporción de elementos de A en la muestra\n",
        "prob = sum(es_bola_blanca(e) for e in muestra)/N\n",
        "print('Probabilidad aproximada de bola blanca:', prob)\n",
        "print('Probabilidad exacta de bola blanca:', 19/30)"
      ]
    },
    {
      "cell_type": "markdown",
      "metadata": {
        "id": "zBXfE833k9Qx"
      },
      "source": [
        "### Ejemplos 6 y 7\n",
        "\n",
        "Resolvé \"a mano\" los ejemplos 6 y 7; y verificá que las probabilidades exactas son $\\frac{12}{25}$ y $\\frac{3}{5}$. Luego, probá con diferentes semillas (a gusto) y diferentes tamaños de muestra ($N \\in \\{10,100,1000,10000\\}$) para ver qué ocurre con las probabilidades estimadas a partir de las simulaciones."
      ]
    },
    {
      "cell_type": "code",
      "execution_count": 28,
      "metadata": {
        "id": "0FO7nR37k9Qx",
        "colab": {
          "base_uri": "https://localhost:8080/"
        },
        "outputId": "0e751bda-a6cd-4a15-9970-17c68468d30a"
      },
      "outputs": [
        {
          "output_type": "stream",
          "name": "stdout",
          "text": [
            "Probabilidad aproximada de que la suma sea impar: 0.4787\n",
            "Probabilidad exacta de que la suma sea impar: 0.48\n"
          ]
        }
      ],
      "source": [
        "# Ejemplo 6 (dos bolas con reposición)\n",
        "rd.seed(1)\n",
        "N = 10000\n",
        "muestra = [experimento_dos_bolas() for _ in range(N)]\n",
        "prob = sum(suma_es_impar(e) for e in muestra)/N\n",
        "print('Probabilidad aproximada de que la suma sea impar:', prob)\n",
        "print('Probabilidad exacta de que la suma sea impar:', 12/25)"
      ]
    },
    {
      "cell_type": "code",
      "execution_count": 29,
      "metadata": {
        "id": "1fDMX9Tbk9Qy",
        "colab": {
          "base_uri": "https://localhost:8080/"
        },
        "outputId": "6a379a80-ea72-4a32-f869-d5ddd0dc3da1"
      },
      "outputs": [
        {
          "output_type": "stream",
          "name": "stdout",
          "text": [
            "Probabilidad aproximada de que la suma de los puntos sea impar: 0.5999\n",
            "Probabilidad exacta de que la suma de los puntos sea impar: 0.6\n"
          ]
        }
      ],
      "source": [
        "# Ejemplo 7 (dos bolas sin reposición)\n",
        "rd.seed(1)\n",
        "N = 10000\n",
        "muestra = [experimento_dos_bolas_sin_reposicion() for _ in range(N)]\n",
        "prob = sum(suma_es_impar(e) for e in muestra)/N\n",
        "print('Probabilidad aproximada de que la suma de los puntos sea impar:', prob)\n",
        "print('Probabilidad exacta de que la suma de los puntos sea impar:', 3/5)"
      ]
    },
    {
      "cell_type": "markdown",
      "metadata": {
        "id": "Uoe78x1ck9Q3"
      },
      "source": [
        "# Trabajo de simulación 1\n",
        "\n",
        "Para el primer trabajo de simulación, vamos a estudiar un problema clásico. Para entrar en tema, te invitamos a ver este video de [#DATAZO](https://youtu.be/QOLEHijfT2E).\n",
        "\n",
        "El problema es así: en un grupo de $k$ personas elegidas al azar, ¿cuál es la probabilidad de que haya al menos dos que cumplan años el mismo día?\n",
        "\n",
        "Para comenzar, hagamos algunos supuestos:\n",
        "\n",
        "*   consideremos que un año tiene 365 días (¡sí, pobres lxs que cumplen el 29 de febrero!);\n",
        "*   consideremos que es igualmente probable haber nacido cualquier día del año;\n",
        "*   descartemos la posibilidad de que haya gemelxs en el grupo de personas.\n",
        "\n",
        "Estos supuestos son necesarios para poder modelar el experimento de una forma sencilla. "
      ]
    },
    {
      "cell_type": "markdown",
      "source": [
        "## Resolución \"a mano\"\n",
        "\n",
        "Queremos responder la siguiente pregunta: en un grupo de $k$ personas elegidas al azar, ¿cuál es la probabilidad de que haya al menos dos que cumplan años el mismo día?\n",
        "\n",
        "Pensemos en el espacio muestral como el formado por todas las posibles fechas de cumpleaños de las $k$ personas del experimento. \n",
        "\n",
        "$$\\Omega = \\{(x_1,\\ldots,x_k) \\text{ con } x_i\\in\\{1,\\ldots,365\\} \\text{ para } 1\\leq i \\leq k\\}.$$\n",
        "\n",
        "Este espacio, así definido, es finito y equiprobable (¡aunque posiblemente tenga muchos elementos!). ¿Cuál es su cardinal? Como vemos, cada una de las $k$ personas tiene 365 posibilidades de fechas de cumpleaños, luego\n",
        "\n",
        "$$\\#\\Omega=365^k.$$\n",
        "\n",
        "Vamos a querer calcular la probabilidad de que en un grupo de $k$ personas elegidas al azar, haya **al menos dos** que cumplan años el mismo día. Lo que ocurre es que hay muchas posibles parejas de personas que cumplan años un mismo día; y contar los elementos del conjunto formado por estas puede ser muy pesado. Entonces, lo que puede convenir es calcular primero la probabilidad de que ninguna persona de un conjunto de $k$ personas elegidas al azar cumpla años el mismo día que otra.\n",
        "\n",
        "Armemos el conjunto $E:$ \"ninguna de las $k$ personas del grupo cumple años el mismo día\". Necesitamos saber cuál es su cardinal. Hay $k$ personas:\n",
        "\n",
        "- la primera cumple años en una de las 365 fechas posibles, fijémosla,\n",
        "- luego, la segunda ya no tiene 365 fechas posibles, sino 364, pues una de las fechas ya fue fijada por la primera persona,\n",
        "- luego, la tercera ya no tiene 365 ni 364 fechas posibles, sino 363, pues dos fechas fueron fijadas por las primeras dos personas,\n",
        "y así, sucesivamente, hasta llegar a la persona $k$. Es decir, el cardinal de $E$ es el siguiente\n",
        "\n",
        "$$\\#E=365\\times 364\\times 363\\times \\cdots \\times 365-k+1.$$\n",
        "\n",
        "De esta forma, la probabilidad buscada es \n",
        "$$p=\\frac{365\\times 364\\times 363\\times \\cdots \\times (365-k+1)}{365^k}.$$\n",
        "\n",
        "Ahora, $1 - p$ es la probabilidad que buscamos, pues el evento \"al menos dos personas de las $k$ elegidas cumple años el mismo día\" es el complemento del evento \"ninguna persona de las $k$ elegidas cumple años el mismo día\". \n",
        "\n",
        "Es decir, la probabilidad de que en un grupo de $k$ personas elegidas al azar, haya **al menos dos** que cumplan años el mismo día es igual a\n",
        "\n",
        "$$1-\\frac{365\\times 364\\times 363\\times \\cdots \\times (365-k+1)}{365^k}.$$\n",
        "\n",
        "Para calcular esta probabilidad, basta definir de qué tamaño será el grupo ($k$) y hacer la cuenta. Por ejemplo, para $k=23$ se tiene que \n",
        "\n",
        "$$1-\\frac{365\\times 364\\times 363\\times \\cdots \\times 343}{365^{23}}.$$\n",
        "\n",
        "Podemos armar una función en Python que haga esta cuenta."
      ],
      "metadata": {
        "id": "Q6iB7ZzWPr5T"
      }
    },
    {
      "cell_type": "code",
      "source": [
        "import math\n",
        "def proba_cumples(k):\n",
        "    '''\n",
        "    proba_cumples(k) devuelve la probabilidad de que en un grupo de k \n",
        "    personas elegidas al azar haya al menos dos que cumplañ años el mismo día\n",
        "    '''\n",
        "    prob = 1-math.prod(range(365-k+1,366))/(365**k)\n",
        "    return prob"
      ],
      "metadata": {
        "id": "KoQ-IZ34a-q5"
      },
      "execution_count": 30,
      "outputs": []
    },
    {
      "cell_type": "code",
      "source": [
        "proba_cumples(23)"
      ],
      "metadata": {
        "id": "pAsIAR8OfGHF",
        "colab": {
          "base_uri": "https://localhost:8080/"
        },
        "outputId": "016129c9-9a9c-43df-e83a-ae1353cc5d2a"
      },
      "execution_count": 31,
      "outputs": [
        {
          "output_type": "execute_result",
          "data": {
            "text/plain": [
              "0.5072972343239854"
            ]
          },
          "metadata": {},
          "execution_count": 31
        }
      ]
    },
    {
      "cell_type": "markdown",
      "source": [
        "## Simulación (ejercicio a entregar)\n",
        "\n",
        "Armar una simulación basada en $N=1000$ repeticiones que permita estimar la probabilidad de que al menos dos personas en un grupo de $k$ personas elegidas al azar cumpla años el mismo día. Dar una lista de las probabilidades estimadas en función de $k$ para $k$ entre 1 y 50. **[OPCIONAL]** Si es posible, representar esas probabilidades estimadas en un gráfico.\n",
        "\n",
        "Para la construcción de la simulación, se sugiere seguir la estructura propuesta en el apartado de simulaciones numéricas de este Notebook. Es decir, para un valor de $k$ que hayamos fijado, puede hacerse lo siguiente.\n",
        "\n",
        "1.  Para el armado del bullet \"1. Experimento aleatorio\", definir la función ``cumples(k)``, que devuelva ``k`` fechas de cumpleaños (``k`` números entre 1 y 365).\n",
        "2.  Para el armado del bullet \"2: Muestra aleatoria\", definir una semilla, fijar ``N`` y armar ``N=1000`` muestras de ``cumples(k)`` que se guarden en ``muestras``.\n",
        "3.  Para el armado del bullet \"3: Una función _filtro_ que caracteriza el evento E\", definir la función ``hay_coincidencia(cumples)`` que devuelva ``TRUE`` (o un 1) si hay una coincidencia en una lista ``cumples`` que sea pasada como argumento. Esta es la función que quizás sea más difícil de implementar. Hay muchas formas de hacerlo. Como pista, la función ``set()`` que ya usamos es una estructura de datos ideal para contener objetos sin repeticiones.\n",
        "4.  Para el armado del bullet \"4: Aproximamos P(E) por la proporción de elementos de E en la muestra\" contar la proporción de ``hay_coincidencia()`` en las ``N`` repeticiones de la muestra y devolver ese valor. \n",
        "\n",
        "**[SUGERENCIA]** Como quiere estimarse la probabilidad en las simulaciones para grupos de $k$ personas, donde $k$ varía desde 0 hasta 50 personas, puede crearse una función ``proporcion_coincidencia(k,N)`` que devuelva directamente una aproximación a la probabilidad de coincidencia en función del número de personas ``k``; sin tener que simular las ``N`` repeticiones en cada caso por separado. En esta función ``proporcion_coincidencia(k,N)`` pueden usarse, dentro, las funciones ``cumples()`` y ``hay_coincidencia()``."
      ],
      "metadata": {
        "id": "qZ_EPsV_P491"
      }
    }
  ],
  "metadata": {
    "kernelspec": {
      "display_name": "Python 3 (ipykernel)",
      "language": "python",
      "name": "python3"
    },
    "language_info": {
      "codemirror_mode": {
        "name": "ipython",
        "version": 3
      },
      "file_extension": ".py",
      "mimetype": "text/x-python",
      "name": "python",
      "nbconvert_exporter": "python",
      "pygments_lexer": "ipython3",
      "version": "3.8.10"
    },
    "colab": {
      "provenance": [],
      "toc_visible": true,
      "include_colab_link": true
    }
  },
  "nbformat": 4,
  "nbformat_minor": 0
}