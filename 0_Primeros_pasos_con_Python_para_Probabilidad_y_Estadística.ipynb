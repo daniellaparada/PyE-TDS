{
  "nbformat": 4,
  "nbformat_minor": 0,
  "metadata": {
    "kernelspec": {
      "display_name": "Python 3",
      "language": "python",
      "name": "python3"
    },
    "language_info": {
      "codemirror_mode": {
        "name": "ipython",
        "version": 3
      },
      "file_extension": ".py",
      "mimetype": "text/x-python",
      "name": "python",
      "nbconvert_exporter": "python",
      "pygments_lexer": "ipython3",
      "version": "3.8.5"
    },
    "colab": {
      "provenance": [],
      "include_colab_link": true
    }
  },
  "cells": [
    {
      "cell_type": "markdown",
      "metadata": {
        "id": "view-in-github",
        "colab_type": "text"
      },
      "source": [
        "<a href=\"https://colab.research.google.com/github/daniellaparada/PyE-TDS/blob/main/0_Primeros_pasos_con_Python_para_Probabilidad_y_Estad%C3%ADstica.ipynb\" target=\"_parent\"><img src=\"https://colab.research.google.com/assets/colab-badge.svg\" alt=\"Open In Colab\"/></a>"
      ]
    },
    {
      "cell_type": "markdown",
      "source": [
        "#Material 0: Primeros pasos con Python para Probabilidad y Estadística#\n",
        "\n"
      ],
      "metadata": {
        "id": "-RlPbfjxqSnd"
      }
    },
    {
      "cell_type": "markdown",
      "metadata": {
        "id": "pZTi8I2rpdPu"
      },
      "source": [
        "En estos **primeros pasos con Python**, vamos a explorar las operaciones fundamentales de Python como \"calculadora\" de modo de poder ver cómo se opera y algunas cosas básicas de su sintaxis, cómo se cargan algunos paquetes de librerías que usaremos y nuestro primer acercamiento a las secuencias de control for, if, while.\n",
        "\n",
        "Es probable que ya conozcas muchas cosas de las que se cuenten en estos primeros pasos a partir de tu estudio en otras materias y lenguajes. Si es así, podés omitir el trabajo con este primer Notebook e ir al del Bloque 1 de la Posta 1.\n",
        "\n",
        "Para trabajar en la materia, podés usar estos Notebooks en Google Colab *(archivo --> guardar una copia en Drive)*, o bien, usar el IDE que sea de tu preferencia *(Jupyter Notebook, Spyder, Visual Studio, etc)*."
      ]
    },
    {
      "cell_type": "markdown",
      "metadata": {
        "id": "r3tXgFqGpdPx"
      },
      "source": [
        "# Operaciones fundamentales"
      ]
    },
    {
      "cell_type": "markdown",
      "metadata": {
        "id": "OX4VpEYspdPy"
      },
      "source": [
        "### Suma"
      ]
    },
    {
      "cell_type": "code",
      "metadata": {
        "id": "yY4vfjCNpdPy"
      },
      "source": [
        "# Python como calculadora\n",
        "4+5 # Ctrl-Enter sirve para ejecutar, si no, presionar el botón de \"play\" para ejecutar el código de cada celda"
      ],
      "execution_count": null,
      "outputs": []
    },
    {
      "cell_type": "code",
      "metadata": {
        "id": "ELRk0VK5pdPz"
      },
      "source": [
        "# Varias operaciones y números, todo al mismo tiempo\n",
        "4 + 3/4 + 9.4"
      ],
      "execution_count": null,
      "outputs": []
    },
    {
      "cell_type": "markdown",
      "metadata": {
        "id": "jVrc1ocXpdPz"
      },
      "source": [
        "### Resta"
      ]
    },
    {
      "cell_type": "code",
      "metadata": {
        "id": "fVXWLgB8pdP0"
      },
      "source": [
        "# ¿Y esto cuánto da?\n",
        "4 - 3 - 1"
      ],
      "execution_count": null,
      "outputs": []
    },
    {
      "cell_type": "markdown",
      "metadata": {
        "id": "kCaPtbodpdP0"
      },
      "source": [
        "### Multiplicación"
      ]
    },
    {
      "cell_type": "code",
      "metadata": {
        "id": "c-uhENicpdP1"
      },
      "source": [
        "# La multiplicación va con *\n",
        "3*4"
      ],
      "execution_count": null,
      "outputs": []
    },
    {
      "cell_type": "code",
      "metadata": {
        "scrolled": true,
        "id": "yV9VTT7kpdP1"
      },
      "source": [
        "# Se pueden hacer operaciones combinadas\n",
        "3*4 - 3*2"
      ],
      "execution_count": null,
      "outputs": []
    },
    {
      "cell_type": "markdown",
      "metadata": {
        "id": "JEJjRS3hpdP1"
      },
      "source": [
        "### División"
      ]
    },
    {
      "cell_type": "code",
      "metadata": {
        "id": "YupmrThUpdP2"
      },
      "source": [
        "# Usar /, no \\\n",
        "3/4"
      ],
      "execution_count": null,
      "outputs": []
    },
    {
      "cell_type": "markdown",
      "metadata": {
        "id": "VGk7eLfdpdP2"
      },
      "source": [
        "## Ejemplos"
      ]
    },
    {
      "cell_type": "code",
      "metadata": {
        "id": "Il4rfUKIpdP3"
      },
      "source": [
        "#1) ¿Cuánto da? Anticipar y verificar.\n",
        "5 - (2/4) * (3/5)"
      ],
      "execution_count": null,
      "outputs": []
    },
    {
      "cell_type": "code",
      "metadata": {
        "id": "oK06VV4fpdP3"
      },
      "source": [
        "#2) ¿Cuánto da? Anticipar y verificar.\n",
        "(4-5) / 3+5*6"
      ],
      "execution_count": null,
      "outputs": []
    },
    {
      "cell_type": "markdown",
      "metadata": {
        "id": "ssuj8PLSpdP3"
      },
      "source": [
        "# Variables"
      ]
    },
    {
      "cell_type": "code",
      "metadata": {
        "id": "15Be8RnDpdP3"
      },
      "source": [
        "# Crear una variable asignándole un número\n",
        "x = 17\n",
        "# OJO, acá nada se imprime, es decir, no hay una \"salida\" al ejecutarlo\n",
        "# NO le pedimos a Python que compute algo sino solo que asigne"
      ],
      "execution_count": null,
      "outputs": []
    },
    {
      "cell_type": "code",
      "metadata": {
        "id": "OFupBGgqpdP3"
      },
      "source": [
        "# Una vez definida, la usamos como variable\n",
        "x - 2"
      ],
      "execution_count": null,
      "outputs": []
    },
    {
      "cell_type": "code",
      "metadata": {
        "id": "q8w4a887pdP4"
      },
      "source": [
        "# Reasignamos su valor\n",
        "x = 10"
      ],
      "execution_count": null,
      "outputs": []
    },
    {
      "cell_type": "code",
      "metadata": {
        "id": "weUNLCg4pdP4"
      },
      "source": [
        "# Una variable puede reasignarse a sí misma\n",
        "x = x-2*5\n",
        "x"
      ],
      "execution_count": null,
      "outputs": []
    },
    {
      "cell_type": "code",
      "metadata": {
        "id": "MT9ufsKUpdP4"
      },
      "source": [
        "# Varias variables\n",
        "x = 10\n",
        "y = 20\n",
        "z = 30\n",
        "x + y*z"
      ],
      "execution_count": null,
      "outputs": []
    },
    {
      "cell_type": "code",
      "metadata": {
        "id": "qYp4TM27pdP4"
      },
      "source": [
        "# La función print() fuerza a imprimir el o los resultados de la celda en la salida\n",
        "# ¿Qué sucede cuando se corren dos líneas pero sin la función print()?\n",
        "\n",
        "40+10\n",
        "50+3\n",
        "\n",
        "print(40+3)\n",
        "print(10+6)"
      ],
      "execution_count": null,
      "outputs": []
    },
    {
      "cell_type": "markdown",
      "metadata": {
        "id": "Gw5SPU_HpdP5"
      },
      "source": [
        "## Ejemplos"
      ]
    },
    {
      "cell_type": "code",
      "metadata": {
        "id": "b_yV1nuepdP5"
      },
      "source": [
        "# 0) Definir las variables\n",
        "x = 7\n",
        "y = -2\n",
        "z = 5\n",
        "\n",
        "# 1) ¿Cuánto da? Anticipar y verificar.\n",
        "3*x*(4+y)"
      ],
      "execution_count": null,
      "outputs": []
    },
    {
      "cell_type": "code",
      "metadata": {
        "id": "YfP2hXO8pdP5"
      },
      "source": [
        "# 2) ¿Cuánto da? ¿Cuánto da? Anticipar y verificar.\n",
        "-y - (x+3)/z"
      ],
      "execution_count": null,
      "outputs": []
    },
    {
      "cell_type": "markdown",
      "metadata": {
        "id": "TlqXcBjwpdP7"
      },
      "source": [
        "# Potencia"
      ]
    },
    {
      "cell_type": "code",
      "metadata": {
        "id": "Lw4XT4aVpdP7"
      },
      "source": [
        "# Se usa con **\n",
        "3**2"
      ],
      "execution_count": null,
      "outputs": []
    },
    {
      "cell_type": "code",
      "metadata": {
        "id": "xhwLFw9QpdP7"
      },
      "source": [
        "# OJO con ^\n",
        "3^1\n",
        "# En realidad, esto es el XOR"
      ],
      "execution_count": null,
      "outputs": []
    },
    {
      "cell_type": "code",
      "metadata": {
        "id": "uSDcqs1bpdP7"
      },
      "source": [
        "# Operamos con variables\n",
        "x = 2\n",
        "3**x"
      ],
      "execution_count": null,
      "outputs": []
    },
    {
      "cell_type": "code",
      "metadata": {
        "id": "fifSg3b9pdP7"
      },
      "source": [
        "# Propiedades de la potenciación\n",
        "print(3**3)\n",
        "print(3*3*3)"
      ],
      "execution_count": null,
      "outputs": []
    },
    {
      "cell_type": "code",
      "metadata": {
        "id": "MTEV4WACpdP7"
      },
      "source": [
        "print( 3**2 * 3**4 )\n",
        "print( 3**(2+4) )"
      ],
      "execution_count": null,
      "outputs": []
    },
    {
      "cell_type": "code",
      "metadata": {
        "id": "NHwocWpApdP8"
      },
      "source": [
        "# Raiz cuadrada como exponente fraccionario\n",
        "x**(1/2)"
      ],
      "execution_count": null,
      "outputs": []
    },
    {
      "cell_type": "markdown",
      "metadata": {
        "id": "dtTrx2FMpdP8"
      },
      "source": [
        "## Ejemplos"
      ]
    },
    {
      "cell_type": "code",
      "metadata": {
        "id": "UHLtVCpppdP8"
      },
      "source": [
        "# 0) Definir las variables\n",
        "x = 5\n",
        "y = 5.1\n",
        "\n",
        "# 1) ¿Cuánto da? Anticipar y verificar\n",
        "x**(3/4) * 4**y\n",
        "(3**3) / (x**y)\n",
        "10**(x-4)"
      ],
      "execution_count": null,
      "outputs": []
    },
    {
      "cell_type": "markdown",
      "metadata": {
        "id": "9uMS21hlpdP8"
      },
      "source": [
        "# Primeros pasos en las secuencias de control: el ciclo *for*..."
      ]
    },
    {
      "cell_type": "code",
      "metadata": {
        "id": "EQtXIBhMpdP8"
      },
      "source": [
        "# List y range (noten que los rangos siempre son cerrados a izquierda y abiertos a derecha).\n",
        "# Con list me armo una lista de los valores del rango\n",
        "list( range(0,3) )"
      ],
      "execution_count": null,
      "outputs": []
    },
    {
      "cell_type": "code",
      "metadata": {
        "id": "_RmVOkRopdP8"
      },
      "source": [
        "# Mi primer loop <3\n",
        "# for <índice> in <rango>: <acción>\n",
        "for i in [0,1,2,3]: # Acá, la lista del rango la uso enumerando los elementos entre corchetes y separados por coma\n",
        "    print(i)\n",
        "\n",
        "    # El i es el índice en el que se mueve este loop: recorre el rango indicado e imprime cada uno de ellos (acción)."
      ],
      "execution_count": null,
      "outputs": []
    },
    {
      "cell_type": "code",
      "metadata": {
        "id": "Edk4cswLpdP8"
      },
      "source": [
        "for i in range(0,3):\n",
        "    print('Este es el %g-ésimo elemento.'%(i+1)) # Podemos concatenar texto con diferentes salidas"
      ],
      "execution_count": null,
      "outputs": []
    },
    {
      "cell_type": "code",
      "metadata": {
        "id": "xc84JDLjpdP8"
      },
      "source": [
        "rango = range(0,3)\n",
        "for i in rango:\n",
        "    print('Este es el %g-ésimo elemento.'%(i+1)) # Podemos concatenar texto con diferentes salidas"
      ],
      "execution_count": null,
      "outputs": []
    },
    {
      "cell_type": "code",
      "metadata": {
        "id": "jbFmMGR3pdP8"
      },
      "source": [
        "for i in range(0,5):\n",
        "    num = i**2\n",
        "    print(num)"
      ],
      "execution_count": null,
      "outputs": []
    },
    {
      "cell_type": "markdown",
      "metadata": {
        "id": "gHIliFRMpdP9"
      },
      "source": [
        "## Ejemplos"
      ]
    },
    {
      "cell_type": "code",
      "metadata": {
        "id": "nicOYLlFpdP9"
      },
      "source": [
        "#1) Calcular e imprimir las potencias de 2 desde 0 hasta 9\n",
        "base = 2\n",
        "\n",
        "for i in range(0,10):\n",
        "    pot = base**i\n",
        "    print(pot)\n",
        "\n",
        "# ¡Pero qué pituco, Don Python!\n",
        "for i in range(0,10):\n",
        "    print('%g a la potencia de %g es %g'%(base,i,base**i))\n"
      ],
      "execution_count": null,
      "outputs": []
    },
    {
      "cell_type": "markdown",
      "metadata": {
        "id": "KJ8eZeXopdP9"
      },
      "source": [
        "# ¿Orden de las operaciones? Más bien: consenso"
      ]
    },
    {
      "cell_type": "code",
      "metadata": {
        "id": "kwdzE8ZRpdP9"
      },
      "source": [
        "print( 4 + 3 * 2 - 1 )"
      ],
      "execution_count": null,
      "outputs": []
    },
    {
      "cell_type": "code",
      "metadata": {
        "id": "3Q_b-eg5pdP9"
      },
      "source": [
        "# ¿24 o 10?\n",
        "4 + 2 * 3"
      ],
      "execution_count": null,
      "outputs": []
    },
    {
      "cell_type": "code",
      "metadata": {
        "id": "AJ3dZADxpdP9"
      },
      "source": [
        "# ¿7 o -11?\n",
        "2 - 4 + 9"
      ],
      "execution_count": null,
      "outputs": []
    },
    {
      "cell_type": "markdown",
      "metadata": {
        "id": "beZhD6k1pdP9"
      },
      "source": [
        "## Ejemplos"
      ]
    },
    {
      "cell_type": "code",
      "metadata": {
        "id": "4ieRWjK1pdP9"
      },
      "source": [
        "# 1) ¿Cuánto da cada uno? ¿Pueden llegar a valer lo mismo cambiando solo el orden de las operaciones?\n",
        "print( 4*5/(7+3) )\n",
        "\n",
        "print( 9/(3+6)-1 )"
      ],
      "execution_count": null,
      "outputs": []
    },
    {
      "cell_type": "markdown",
      "metadata": {
        "id": "fzswPJS8pdP-"
      },
      "source": [
        "# Expresiones relacionales y lógicas"
      ]
    },
    {
      "cell_type": "code",
      "metadata": {
        "id": "DvtsUcqQpdP-"
      },
      "source": [
        "# Esto solo puede ser Verdadero o Falso\n",
        "4>5"
      ],
      "execution_count": null,
      "outputs": []
    },
    {
      "cell_type": "code",
      "metadata": {
        "id": "zDTYytvzpdP-"
      },
      "source": [
        "print(5<5.1)"
      ],
      "execution_count": null,
      "outputs": []
    },
    {
      "cell_type": "code",
      "metadata": {
        "id": "3J-jU26qpdP-"
      },
      "source": [
        "b = 10 > 3*3.33334\n",
        "\n",
        "print(b)\n",
        "print(type(b)) # el tipo de variable es boolean"
      ],
      "execution_count": null,
      "outputs": []
    },
    {
      "cell_type": "code",
      "metadata": {
        "id": "fKwOa0hDpdP-"
      },
      "source": [
        "4 >= 2+2"
      ],
      "execution_count": null,
      "outputs": []
    },
    {
      "cell_type": "code",
      "metadata": {
        "id": "XJ17IyGWpdP-"
      },
      "source": [
        "5 <= 3*2-1.00000000001"
      ],
      "execution_count": null,
      "outputs": []
    },
    {
      "cell_type": "code",
      "metadata": {
        "id": "J-wo87oSpdP-"
      },
      "source": [
        "# Testear igualdades requiere DOS símbolos =\n",
        "# Quiero ver si 4 = 4\n",
        "4 == 4\n",
        "\n",
        "test = 4 == 5\n",
        "print(test)\n",
        "print( 4 == 4)"
      ],
      "execution_count": null,
      "outputs": []
    },
    {
      "cell_type": "markdown",
      "metadata": {
        "id": "iqsW1fCtpdP-"
      },
      "source": [
        "## Ejemplos"
      ]
    },
    {
      "cell_type": "code",
      "metadata": {
        "id": "Hu1trHwfpdP-"
      },
      "source": [
        "# ¿Cuánto da? Anticipar y verificar.\n",
        "x = 2\n",
        "x = 3\n",
        "x = 4\n",
        "\n",
        "# 1)\n",
        "print( 4*x+3 < 17-x**2 )\n",
        "\n",
        "#2)\n",
        "print( 8*x - 2 <= -3*x + 42 )"
      ],
      "execution_count": null,
      "outputs": []
    },
    {
      "cell_type": "markdown",
      "metadata": {
        "id": "UoyYFh23pdP-"
      },
      "source": [
        "# If y operadores lógicos"
      ]
    },
    {
      "cell_type": "code",
      "metadata": {
        "id": "e--oEGVnpdP_"
      },
      "source": [
        "# El if funciona como el \"si...entonces\"\n",
        "# if <condición>: <acción bajo condición> else: <acción fuera de condición>\n",
        "\n",
        "# Algo simple:\n",
        "if 4+2 == 7: # if <condición>:\n",
        "    print('¡Verdadero!') # <acción bajo condición>\n",
        "else:\n",
        "    print('¡Falso!') #else: <acción fuera de condición>"
      ],
      "execution_count": null,
      "outputs": []
    },
    {
      "cell_type": "code",
      "metadata": {
        "id": "lyK8SynhpdP_"
      },
      "source": [
        "# Ahora con variables\n",
        "x1 = 3\n",
        "x2 = 4\n",
        "\n",
        "if x1>x2:\n",
        "    print('%g es mayor que %g' %(x1,x2))\n",
        "elif x1<x2:  # Condiciones: uso elif\n",
        "    print('%g es menor que %g' %(x1,x2))\n",
        "else:\n",
        "    print('%g es igual que %g' %(x1,x2))"
      ],
      "execution_count": null,
      "outputs": []
    },
    {
      "cell_type": "code",
      "metadata": {
        "id": "yY-JG9d7pdP_"
      },
      "source": [
        "# Con operadores lógicos o e y\n",
        "x = 1\n",
        "y = 2\n",
        "z = 3\n",
        "\n",
        "if x+y<z or x-z>y: # Or\n",
        "    print('Afirmación 1')\n",
        "elif 2*x+y>z and 2*z-x>y: # And\n",
        "    print('Afirmación 2')"
      ],
      "execution_count": null,
      "outputs": []
    },
    {
      "cell_type": "markdown",
      "metadata": {
        "id": "JIMXlvxbpdP_"
      },
      "source": [
        "## Ejemplos"
      ]
    },
    {
      "cell_type": "code",
      "metadata": {
        "id": "CrkOWeZopdP_"
      },
      "source": [
        "#1) ¿Qué se obtiene con este código? Anticipar y verificar.\n",
        "# Importamos funciones especiales que no están en el entorno del paquete base\n",
        "# Acá vamos a importar display y Math para poder \"ver mejor\" los resultados de las salidas\n",
        "# NOTA: en general, no vamos a usar estas librerías puntualmente, sino otras que nos sean útiles en el estudio de la probabilidad y la estadística.\n",
        "from IPython.display import display, Math\n",
        "\n",
        "for i in range(0,4):\n",
        "    for j in range(0,5):\n",
        "        if j>0 and i>0:\n",
        "            display(Math('%g^{-%g} = %g' %(i,j,i**-j)))"
      ],
      "execution_count": null,
      "outputs": []
    },
    {
      "cell_type": "code",
      "source": [
        "#1) Podemos eludir la librería y usar solo print()\n",
        "from IPython.display import display, Math\n",
        "\n",
        "for i in range(0,4):\n",
        "    for j in range(0,5):\n",
        "        if j>0 and i>0:\n",
        "            print('%g^{-%g} = %g' %(i,j,i**-j))"
      ],
      "metadata": {
        "id": "qy-H9tzxigPE"
      },
      "execution_count": null,
      "outputs": []
    },
    {
      "cell_type": "markdown",
      "metadata": {
        "id": "4TG--JxZpdP_"
      },
      "source": [
        "# Valor absoluto"
      ]
    },
    {
      "cell_type": "code",
      "metadata": {
        "id": "vOptpoqZpdP_"
      },
      "source": [
        "a = -4\n",
        "abs(a)"
      ],
      "execution_count": null,
      "outputs": []
    },
    {
      "cell_type": "code",
      "metadata": {
        "id": "a5CqULoEpdP_"
      },
      "source": [
        "b = abs(a)\n",
        "a,b"
      ],
      "execution_count": null,
      "outputs": []
    },
    {
      "cell_type": "code",
      "metadata": {
        "id": "2A0ncrYnpdP_"
      },
      "source": [
        "x = -4.3\n",
        "\n",
        "print('|%g| = %g' %(x,abs(x)) )"
      ],
      "execution_count": null,
      "outputs": []
    },
    {
      "cell_type": "markdown",
      "metadata": {
        "id": "77tBTTNupdP_"
      },
      "source": [
        "## Ejemplos"
      ]
    },
    {
      "cell_type": "code",
      "metadata": {
        "id": "VazjsBNTpdQA"
      },
      "source": [
        "#1) Calculá el valor absoluto de estos números solo si son menores que -5 o mayores que +2\n",
        "numbers = [-4,6,-1,43,-18,2,0]\n",
        "\n",
        "# Armamos el bucle for para recorrer los números de la lista.\n",
        "# Luego, para cada uno de ellos, vamos a tener que usar otra estrucura para verificar que se cumpla la condición: el if.\n",
        "for i in numbers:\n",
        "    if i<-5 or i>2:\n",
        "        print( 'El valor absoluto de %g es %g.' %(i,abs(i)) )\n",
        "    else:\n",
        "        print( str(i) + ' no fue testeado.' )"
      ],
      "execution_count": null,
      "outputs": []
    },
    {
      "cell_type": "markdown",
      "metadata": {
        "id": "R2x2grLXpdQA"
      },
      "source": [
        "# División entera y resto"
      ]
    },
    {
      "cell_type": "code",
      "metadata": {
        "id": "Sp7vT1-3pdQA"
      },
      "source": [
        "a = 10\n",
        "b = 3\n",
        "\n",
        "# División\n",
        "a/b"
      ],
      "execution_count": null,
      "outputs": []
    },
    {
      "cell_type": "code",
      "metadata": {
        "id": "hTqqhj3OpdQA"
      },
      "source": [
        "# División entera\n",
        "int(a/b) #¿qué hace int?"
      ],
      "execution_count": null,
      "outputs": []
    },
    {
      "cell_type": "code",
      "metadata": {
        "id": "D5nl7AbOpdQA"
      },
      "source": [
        "# Resto\n",
        "a%b"
      ],
      "execution_count": null,
      "outputs": []
    },
    {
      "cell_type": "code",
      "metadata": {
        "id": "EQAA2rKTpdQA"
      },
      "source": [
        "division = int(a/b)\n",
        "remainder = a%b\n",
        "\n",
        "print(\"%g cabe en %g, %g veces con un resto de %g.\" %(b,a,division,remainder))"
      ],
      "execution_count": null,
      "outputs": []
    },
    {
      "cell_type": "markdown",
      "metadata": {
        "id": "ZanM7DAnpdQA"
      },
      "source": [
        "## Ejemplos"
      ]
    },
    {
      "cell_type": "code",
      "metadata": {
        "scrolled": true,
        "id": "6pSQv9CppdQA"
      },
      "source": [
        "#1) Escribí el código para determinar, de una lista de números, cuando es par o impar.\n",
        "\n",
        "nums = range(-5,6)\n",
        "\n",
        "for i in nums:\n",
        "\n",
        "    # Le da un espacio adicional a los positivos para que queden encolumndados (se ve mejor)\n",
        "    firstchar = '' if i<0  else ' '\n",
        "\n",
        "    # test y salida\n",
        "    if i%2 == 0:\n",
        "        print('%s%g es un número par' %(firstchar,i))\n",
        "    else:\n",
        "        print('%s%g es un número impar' %(firstchar,i))"
      ],
      "execution_count": null,
      "outputs": []
    },
    {
      "cell_type": "markdown",
      "metadata": {
        "id": "rHB2fVzQpdQA"
      },
      "source": [
        "# Mi primera función"
      ]
    },
    {
      "cell_type": "code",
      "metadata": {
        "id": "vHW-fbLCpdQB"
      },
      "source": [
        "# Creamos una función que toma dos números y devuelve el cociente y el resto.\n",
        "# Definir la función con def. Usar un nombre alusivo. Entre paréntesis, los argumentos que requiera (si es que los requiere).\n",
        "def computa_resto(x,y):\n",
        "    cociente  = int( x/y )\n",
        "    resto = x%y\n",
        "\n",
        "    print(\"%g cabe en %g, %g veces con un resto de %g.\" %(y,x,cociente,resto))"
      ],
      "execution_count": null,
      "outputs": []
    },
    {
      "cell_type": "code",
      "metadata": {
        "id": "OLmQTJprpdQB"
      },
      "source": [
        "computa_resto(10,3)"
      ],
      "execution_count": null,
      "outputs": []
    },
    {
      "cell_type": "code",
      "metadata": {
        "id": "hn2FXLw5pdQB"
      },
      "source": [
        "# Lo mismo que antes pero ahora es el ususario el que ingresa los números.\n",
        "# Definir la función. Ahora va sin argumentos porque el input lo hace el usuario. Esto hay que definirlo en la función.\n",
        "# Para pedir un ingreso por el usuario, se usa input()\n",
        "def computa_resto():\n",
        "    x = int( input('Ingresar el dividendo: ') )\n",
        "    y = int( input('Ingresar el divisor: ') )\n",
        "    cociente  = int( x/y )\n",
        "    resto = x%y\n",
        "\n",
        "    print(\"%g cabe en %g, %g veces con un resto de %g.\" %(y,x,cociente,resto))"
      ],
      "execution_count": null,
      "outputs": []
    },
    {
      "cell_type": "code",
      "metadata": {
        "id": "Lklh5DgMpdQB"
      },
      "source": [
        "# La pruebo\n",
        "computa_resto()"
      ],
      "execution_count": null,
      "outputs": []
    },
    {
      "cell_type": "code",
      "metadata": {
        "id": "9b-FxDz6pdQB"
      },
      "source": [
        "# ¿Qué hace esta función?\n",
        "def potencia():\n",
        "    # los inputs\n",
        "    n1 = int( input('Ingresá un número: ') )\n",
        "    n2 = int( input('Ingresá otro número: ') )\n",
        "\n",
        "    # testea algo, luego devuelve algo\n",
        "    if abs(n1)>abs(n2):\n",
        "        return n1,n2,n1**n2 # con return obtengo la salida como con print pero también \"corto\" la ejecución de la función\n",
        "    else:\n",
        "        return n2,n1,n2**n1"
      ],
      "execution_count": null,
      "outputs": []
    },
    {
      "cell_type": "code",
      "metadata": {
        "id": "Z3VhOmmCpdQB"
      },
      "source": [
        "# La pruebo\n",
        "nro1,nro2,salida = potencia() # ¿Por qué hago esto? ... prueben correr solo potencia() para ver qué pasa\n",
        "\n",
        "print('%g^{%g} = %g '%(nro1,nro2,salida))"
      ],
      "execution_count": null,
      "outputs": []
    },
    {
      "cell_type": "code",
      "metadata": {
        "id": "yYKO93YkrDl2"
      },
      "source": [
        "potencia()"
      ],
      "execution_count": null,
      "outputs": []
    },
    {
      "cell_type": "code",
      "metadata": {
        "id": "AyiAvG_CpdQC"
      },
      "source": [
        "# La mejoro (para no tener que hacer lo de la línea anterior)\n",
        "def potencia():\n",
        "    # los inputs\n",
        "    n1 = int( input('Ingresá un número: ') )\n",
        "    n2 = int( input('Ingresá otro número: ') )\n",
        "\n",
        "    # testea algo, luego devuelve algo\n",
        "    if abs(n1)>abs(n2):\n",
        "        return print('%g^{%g} = %g '%(n1,n2,n1**n2))\n",
        "    else:\n",
        "        return print('%g^{%g} = %g '%(n1,n2,n1**n2))\n",
        "\n",
        "potencia()"
      ],
      "execution_count": null,
      "outputs": []
    },
    {
      "cell_type": "markdown",
      "metadata": {
        "id": "CCbwwcULpdQD"
      },
      "source": [
        "# DESAFÍO: Adivina adivinador"
      ]
    },
    {
      "cell_type": "code",
      "metadata": {
        "id": "gP-qG3VIpdQD"
      },
      "source": [
        "# Nuestro primer programa un poquito más completo\n",
        "# Adiviná el número. La máquina elige un número aleatorio y el usuario tiene que adivinarlo.\n",
        "# En el camino, el usuario va recibiendo pistas para hacerlo hasta que lo logra.\n",
        "\n",
        "# Importamos la función random de la librería numpy (vamos a usar muuuuucho la librería numpy en las próximas guías)\n",
        "from numpy import random\n",
        "\n",
        "def adivinador():\n",
        "    nro = random.randint(1,101) # random.randint es la función para generar un número pseudo-aleatorio entero de un rango\n",
        "\n",
        "    userguess = int( input('¡Hola! Estoy pensando en un número del 1 al 100. Adivinalo: ') )\n",
        "    #Acá se guardan los guess del usuario\n",
        "\n",
        "    # No nos sirve el for porque no sabemos cuántas veces va a tener que proponer un número hasta adivinarlo\n",
        "    # Entonces usamos otra secuancia de control: el while. \"Mientras se cumpla una condición, hacé tal cosa\"\n",
        "    # while <condición>: <acción>\n",
        "    # Una vez que la condición no se cumple, se sale del loop del while y se pasa a la siguiente línea\n",
        "    while userguess!=nro: # Mientras el usuario NO adivine (!= equivale a \"no igual\")...\n",
        "        if userguess>nro: # ... si el número del usuario es mayor que el de la máquina...\n",
        "            print('¡Elegí uno menor!') # ...avisarle que elija uno menor\n",
        "        elif userguess<nro: #... si el número del usuario es menor que el de la máquina...\n",
        "            print('¡Elegí uno mayor!') # ...avisarle que elija uno mayor\n",
        "\n",
        "        #Acá ya salí del if y le pido que ingrese uno de nuevo\n",
        "        userguess = int( input('Probá de nuevo ') ) # ESTA es la acción del while: pedirme que ingrese otro número.\n",
        "        # El while se ejecuta hasta que la condición se deja de cumplir, es decir, cuando el usuario adivina\n",
        "\n",
        "    #Acá ya salí del while. Entonces le tengo que avisar al usuario que ya adivinó (la condición se dejó de cumplir)\n",
        "    print('¡Adivinaste! El número que había pensado era %g y tu último ingreso fue %g.'%(nro,userguess))"
      ],
      "execution_count": null,
      "outputs": []
    },
    {
      "cell_type": "code",
      "metadata": {
        "id": "3tcq0V6npdQD"
      },
      "source": [
        "adivinador()"
      ],
      "execution_count": null,
      "outputs": []
    }
  ]
}